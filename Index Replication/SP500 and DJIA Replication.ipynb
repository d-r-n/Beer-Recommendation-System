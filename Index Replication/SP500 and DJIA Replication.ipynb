{
 "cells": [
  {
   "cell_type": "markdown",
   "metadata": {},
   "source": [
    "Author: Dylan Nikol"
   ]
  },
  {
   "cell_type": "code",
   "execution_count": 1,
   "metadata": {},
   "outputs": [],
   "source": [
    "import pandas as pd\n",
    "import numpy as np\n",
    "import copy\n",
    "\n",
    "# Load all data from CRSP for all stocks on AMEX, NYSE, NASDAQ\n",
    "raw_data = pd.read_csv('d4509de939589f29.csv')\n",
    "\n",
    "# Exclude AMEX from analysis\n",
    "sp_data = copy.deepcopy(raw_data[raw_data.EXCHCD != 2])\n",
    "dow_data =copy.deepcopy(raw_data[raw_data.EXCHCD != 2])"
   ]
  },
  {
   "cell_type": "markdown",
   "metadata": {},
   "source": [
    "# S&P500 Replication"
   ]
  },
  {
   "cell_type": "code",
   "execution_count": 2,
   "metadata": {},
   "outputs": [],
   "source": [
    "# Adjust shares and stock prices, format date\n",
    "sp_data['PRC_ADJ'] = sp_data['PRC'] / sp_data['CFACPR']\n",
    "sp_data['SHROUT_ADJ'] = (sp_data['SHROUT'] * sp_data['CFACSHR']) * 1000\n",
    "sp_data['MKT_CAP'] = (sp_data['SHROUT_ADJ'] * sp_data['PRC_ADJ']).replace([np.inf, -np.inf], np.nan)\n",
    "sp_data = sp_data.dropna().reset_index(drop=True)\n",
    "sp_data['date'] = pd.to_datetime(sp_data['date'], format='%Y%m%d').dt.to_period('M')\n",
    "dates = sp_data['date'].unique()\n",
    "sp_data = sp_data.drop([\"CFACPR\", \"CFACSHR\", \"PRC\", \"SHROUT\"], axis=1)"
   ]
  },
  {
   "cell_type": "code",
   "execution_count": 3,
   "metadata": {},
   "outputs": [],
   "source": [
    "def rebalance_sp(df):\n",
    "    df['WEIGHT'] = df['MKT_CAP']/df['MKT_CAP'].sum()\n",
    "    return df\n",
    "    \n",
    "def reconstitute_sp(df):\n",
    "    df = df.sort_values(by='MKT_CAP', ascending=False)[0:505].reset_index(drop=True)\n",
    "    df = rebalance_sp(df)\n",
    "    return df"
   ]
  },
  {
   "cell_type": "code",
   "execution_count": 4,
   "metadata": {},
   "outputs": [],
   "source": [
    "col = ['date','PERMNO','TICKER','MKT_CAP', 'WEIGHT']\n",
    "s_p = pd.DataFrame(np.zeros((0,len(col))), columns=col)\n",
    "s_p500 = pd.DataFrame(np.zeros((505,len(col))), columns=col)\n",
    "\n",
    "for date in dates:\n",
    "    # get data @ time period\n",
    "    df = sp_data[sp_data['date']==date][['date', 'PERMNO', 'TICKER','PRC_ADJ','MKT_CAP']]\n",
    "    \n",
    "    # check if about to be new year for reconsititution\n",
    "    if date.month%12 == 0:\n",
    "        s_p500 = reconstitute_sp(df)\n",
    "        constituents = s_p500[['PERMNO']]\n",
    "    \n",
    "    # check if quarter for rebalancing\n",
    "    elif date.month%3 == 0:\n",
    "        df = df.merge(constituents)\n",
    "        s_p500 = rebalance_sp(df)\n",
    "    \n",
    "    # otherwise maintain weights\n",
    "    else:\n",
    "        cols = ['date','PERMNO','TICKER','PRC_ADJ','MKT_CAP', 'WEIGHT']\n",
    "        df = df.merge(constituents,how='left')        \n",
    "        s_p500 = s_p500.drop(columns=['date','MKT_CAP'])\n",
    "        s_p500 = s_p500.merge(df[['date','PERMNO','MKT_CAP']], how='left', left_on='PERMNO', right_on='PERMNO')[cols]\n",
    "        \n",
    "    # append to timeseries\n",
    "    s_p = s_p.append(s_p500).reset_index(drop=True)\n"
   ]
  },
  {
   "cell_type": "code",
   "execution_count": 5,
   "metadata": {},
   "outputs": [],
   "source": [
    "# Calculate SP_500 weighted price sum and return (replication)\n",
    "s_p['SP_PRICE'] = s_p['PRC_ADJ']*s_p['WEIGHT']\n",
    "sp_rep = s_p.groupby(by='date')[['SP_PRICE']].sum()\n",
    "sp_rep['RETURN'] = (sp_rep['SP_PRICE'] / sp_rep['SP_PRICE'].shift(1) - 1)"
   ]
  },
  {
   "cell_type": "code",
   "execution_count": 6,
   "metadata": {},
   "outputs": [],
   "source": [
    "# SP500 Index\n",
    "SP500 = pd.read_csv('81ec419eb2a9e002.csv')\n",
    "SP500['date'] = pd.to_datetime(SP500['caldt'], format='%Y%m%d').dt.to_period('M')\n",
    "SP500=SP500.set_index('date')\n",
    "SP500=SP500.drop(['caldt'], axis=1)\n",
    "SP500['RETURN']= (SP500['sprtrn'])\n",
    "\n",
    "# SP500 Mutual Fund\n",
    "VFIAX = pd.read_csv('mutual.csv')\n",
    "VFIAX = (VFIAX[VFIAX.crsp_fundno != 86323])\n",
    "VFIAX = VFIAX.drop_duplicates(subset='caldt', keep=\"first\")\n",
    "VFIAX['date'] = pd.to_datetime(VFIAX['caldt'], format='%Y%m%d').dt.to_period('M')\n",
    "VFIAX=VFIAX.set_index('date')\n",
    "VFIAX=VFIAX.drop(columns=['caldt','crsp_fundno','mtna','mret'])\n",
    "VFIAX['RETURN'] = (VFIAX['mnav'] / VFIAX['mnav'].shift(1) - 1)\n",
    "\n",
    "# SP500 ETF\n",
    "SPY = pd.read_csv('FA4110AA373EB6C7.csv')\n",
    "SPY['PRC_ADJ'] = SPY['PRC'] / SPY['CFACPR']\n",
    "SPY = SPY.dropna().reset_index(drop=True)\n",
    "SPY['date'] = pd.to_datetime(SPY['date'], format='%Y%m%d').dt.to_period('M')\n",
    "SPY = SPY.drop([\"CFACPR\", \"CFACSHR\", \"PRC\", \"SHROUT\",\"COMNAM\",\"PERMNO\",'TICKER'], axis=1)\n",
    "SPY['RETURN'] = (SPY['PRC_ADJ'] / SPY['PRC_ADJ'].shift(1) - 1)\n",
    "SPY=SPY.set_index('date')"
   ]
  },
  {
   "cell_type": "code",
   "execution_count": 7,
   "metadata": {},
   "outputs": [],
   "source": [
    "# annualized metrics\n",
    "rf=.02\n",
    "\n",
    "stats = pd.DataFrame(sp_rep.apply(lambda x:((1+np.mean(x))**12-1)),columns=['RETURN'])\n",
    "stats['STD'] = sp_rep.apply(lambda x: np.std(x)*np.sqrt(12))\n",
    "stats['SHARPE'] = (stats['RETURN']-rf)/stats['STD']\n",
    "stats=stats.drop(['SP_PRICE'], axis=0)\n",
    "stats = stats.rename(index={'RETURN': 'SP500 Replication'})\n",
    "\n",
    "m_stats = pd.DataFrame(VFIAX.apply(lambda x:((1+np.mean(x))**12-1)),columns=['RETURN'])\n",
    "m_stats['STD'] = VFIAX.apply(lambda x: np.std(x)*np.sqrt(12))\n",
    "m_stats['SHARPE'] = (m_stats['RETURN']-rf)/m_stats['STD']\n",
    "m_stats=m_stats.drop(['mnav'], axis=0)\n",
    "m_stats = m_stats.rename(index={'RETURN': 'VFIAX'})\n",
    "\n",
    "sp_stats = pd.DataFrame(SP500.apply(lambda x:((1+np.mean(x))**12-1)),columns=['RETURN'])\n",
    "sp_stats['STD'] = SP500.apply(lambda x: np.std(x)*np.sqrt(12))\n",
    "sp_stats['SHARPE'] = (sp_stats['RETURN']-rf)/sp_stats['STD']\n",
    "sp_stats=sp_stats.drop(['sprtrn'], axis=0)\n",
    "sp_stats=sp_stats.drop(['totval'], axis=0)\n",
    "sp_stats=sp_stats.drop(['spindx'], axis=0)\n",
    "sp_stats = sp_stats.rename(index={'RETURN': 'SP500'})\n",
    " \n",
    "etf_stats = pd.DataFrame(SPY.apply(lambda x:((1+np.mean(x))**12-1)),columns=['RETURN'])\n",
    "etf_stats['STD'] = SPY.apply(lambda x: np.std(x)*np.sqrt(12))\n",
    "etf_stats['SHARPE'] = (etf_stats['RETURN']-rf)/etf_stats['STD']\n",
    "etf_stats=etf_stats.drop(['PRC_ADJ'], axis=0)\n",
    "etf_stats = etf_stats.rename(index={'RETURN': 'SPY'})\n",
    "\n",
    "\n",
    "stats=stats.append(m_stats)\n",
    "stats=stats.append(sp_stats)\n",
    "stats=stats.append(etf_stats)"
   ]
  },
  {
   "cell_type": "code",
   "execution_count": 8,
   "metadata": {},
   "outputs": [
    {
     "name": "stdout",
     "output_type": "stream",
     "text": [
      "Populating the interactive namespace from numpy and matplotlib\n"
     ]
    },
    {
     "name": "stderr",
     "output_type": "stream",
     "text": [
      "/Applications/anaconda3/lib/python3.7/site-packages/IPython/core/magics/pylab.py:160: UserWarning: pylab import has clobbered these variables: ['copy']\n",
      "`%matplotlib` prevents importing * from pylab and numpy\n",
      "  \"\\n`%matplotlib` prevents importing * from pylab and numpy\"\n"
     ]
    },
    {
     "data": {
      "text/plain": [
       "<matplotlib.legend.Legend at 0x7fadb89d6650>"
      ]
     },
     "execution_count": 8,
     "metadata": {},
     "output_type": "execute_result"
    },
    {
     "data": {
      "image/png": "[encoded data removed]",
      "text/plain": [
       "<Figure size 432x288 with 1 Axes>"
      ]
     },
     "metadata": {
      "needs_background": "light"
     },
     "output_type": "display_data"
    }
   ],
   "source": [
    "# Plot the prices of the replication, the index, the mutual fund, and the ETF\n",
    "%pylab inline\n",
    "\n",
    "sp_rep['SP_PRICE'].plot(label='My replication', color='blue')\n",
    "VFIAX_1=VFIAX['mnav']*10\n",
    "VFIAX_1.plot(label='VFIAX', color='orange')\n",
    "SPY_x = SPY['PRC_ADJ']*10\n",
    "SPY_x.plot(label='SPY',color='red')\n",
    "SP500['spindx'].plot(label='SP500',color='green')\n",
    "legend(loc='best')"
   ]
  },
  {
   "cell_type": "markdown",
   "metadata": {},
   "source": [
    "SPY matches the S&P500 very well, so S&P500 (green line) covers SPY (red line) on the plot."
   ]
  },
  {
   "cell_type": "code",
   "execution_count": 9,
   "metadata": {},
   "outputs": [
    {
     "name": "stdout",
     "output_type": "stream",
     "text": [
      "               SPY RETURN  SP500 RETURN     VFIAX  SP REP RETURN\n",
      "SPY RETURN       1.000000      0.997276  0.999782       0.070616\n",
      "SP500 RETURN     0.997276      1.000000  0.997388       0.085587\n",
      "VFIAX            0.999782      0.997388  1.000000       0.067184\n",
      "SP REP RETURN    0.070616      0.085587  0.067184       1.000000 \n",
      "\n",
      "Pairwise correlation\n",
      "                     RETURN       STD    SHARPE\n",
      "SP500 Replication  0.145062  0.221703  0.564099\n",
      "VFIAX              0.121073  0.124477  0.811981\n",
      "SP500              0.121668  0.123581  0.822690\n",
      "SPY                0.120438  0.124284  0.808132\n"
     ]
    }
   ],
   "source": [
    "# Caculate correlation and print annualized metrics\n",
    "sp_cor = pd.DataFrame({\"SPY RETURN\":SPY['RETURN'],\"SP500 RETURN\":SP500['RETURN'],\\\n",
    "                        \"VFIAX\":VFIAX['RETURN'], \"SP REP RETURN\":sp_rep['RETURN'] }) \n",
    "print(sp_cor.corr(),'\\n')\n",
    "print('Pairwise correlation')\n",
    "print(stats)"
   ]
  },
  {
   "cell_type": "markdown",
   "metadata": {},
   "source": [
    "# Dow Jones Replication"
   ]
  },
  {
   "cell_type": "code",
   "execution_count": 10,
   "metadata": {},
   "outputs": [],
   "source": [
    "def rebalance_dj(df2):\n",
    "    df2['INDEX_PRICE'] = 0\n",
    "    return df2\n",
    "\n",
    "def reconstitute_dj(df2):\n",
    "    df2 = df2.sort_values(by='PRC_ADJ', ascending=False)[0:30].reset_index(drop=True)\n",
    "    df2 = rebalance_dj(df2)\n",
    "    return df2"
   ]
  },
  {
   "cell_type": "code",
   "execution_count": 11,
   "metadata": {
    "scrolled": true
   },
   "outputs": [],
   "source": [
    "dow_data = pd.read_csv('1291c5ae6f37733d.csv')\n",
    "dow_data['PRC_ADJ'] = (dow_data['PRC'] / dow_data['CFACPR'])\n",
    "dow_data['date'] = pd.to_datetime(dow_data['date'], format='%Y%m%d').dt.to_period('M') \n",
    "dates_dj = dow_data['date'].unique()"
   ]
  },
  {
   "cell_type": "code",
   "execution_count": 12,
   "metadata": {},
   "outputs": [],
   "source": [
    "col = ['date','PERMNO','TICKER', 'INDEX_PRICE']\n",
    "d_j = pd.DataFrame(np.zeros((0,len(col))), columns=col)\n",
    "d_jones = pd.DataFrame(np.zeros((30,len(col))), columns=col)\n",
    "\n",
    "for i in dates_dj:\n",
    "    \n",
    "    # get data @ time period\n",
    "    df2 = dow_data[dow_data['date']==i][['date', 'PERMNO', 'TICKER','PRC_ADJ']]\n",
    "    \n",
    "    # check if about to be new year for reconsititution\n",
    "    if i.month%12 == 0:\n",
    "        d_jones = reconstitute_dj(df2)\n",
    "        constituents_dj = d_jones[['PERMNO']]\n",
    "\n",
    "    # check if quarter for rebalancing\n",
    "    elif i.month%3 == 0:\n",
    "        df2 = df2.merge(constituents_dj)\n",
    "        d_jones = rebalance_dj(df2)\n",
    "    \n",
    "    # otherwise maintain weights\n",
    "    else:\n",
    "        cols = ['date','PERMNO','TICKER','PRC_ADJ','INDEX_PRICE']\n",
    "        df2 = df2.merge(constituents_dj,how='left')        \n",
    "        d_jones = d_jones.drop(columns=['date'])\n",
    "        d_jones = d_jones.merge(df2[['date','PERMNO']], how='left', left_on='PERMNO', right_on='PERMNO')[cols]\n",
    "\n",
    "    d_j = d_j.append(d_jones).reset_index(drop=True)"
   ]
  },
  {
   "cell_type": "code",
   "execution_count": 13,
   "metadata": {},
   "outputs": [],
   "source": [
    "# Calculate DJIA weighted price sum and return (replication)\n",
    "divisor = .152\n",
    "djia_rep = d_j.groupby(by='date')[['PRC_ADJ']].sum()\n",
    "djia_rep['INDEX_PRICE'] = djia_rep['PRC_ADJ']/divisor\n",
    "djia_rep['RETURN'] = (djia_rep['INDEX_PRICE'] / djia_rep['INDEX_PRICE'].shift(1) - 1)\n",
    "djia_rep=djia_rep.drop(['PRC_ADJ'], axis=1)"
   ]
  },
  {
   "cell_type": "code",
   "execution_count": 14,
   "metadata": {},
   "outputs": [],
   "source": [
    "# DJ ETF\n",
    "DIA = pd.read_csv('dia.csv')\n",
    "DIA['PRC_ADJ'] = DIA['PRC'] / DIA['CFACPR']\n",
    "DIA['date'] = pd.to_datetime(DIA['date'], format='%Y%m%d').dt.to_period('M')\n",
    "DIA=DIA.set_index('date')\n",
    "DIA = DIA.drop([\"CFACPR\", \"CFACSHR\", \"PRC\", \"SHROUT\",\"COMNAM\",\"PERMNO\",'TICKER'], axis=1)\n",
    "DIA['RETURN'] = (DIA['PRC_ADJ'] / DIA['PRC_ADJ'].shift(1) - 1)\n",
    "\n",
    "# ^DJI\n",
    "dji = pd.read_csv('^DJI.csv')\n",
    "dji['RETURN'] = (dji['Adj Close'] / dji['Adj Close'].shift(1) - 1)\n",
    "dji = dji.drop([\"Open\", \"High\", \"Low\", \"Close\",\"Volume\"], axis=1)\n",
    "dji['Date'] = pd.to_datetime(dji['Date'], format='%Y-%m-%d').dt.to_period('M')\n",
    "dji=dji.set_index('Date')\n",
    "\n",
    "# DJ MUTUAL FUND\n",
    "RYDHX = pd.read_csv('mutual.csv')\n",
    "RYDHX = (RYDHX[RYDHX.crsp_fundno != 31461])\n",
    "RYDHX = (RYDHX[RYDHX.mret != 'R'])\n",
    "RYDHX = RYDHX.drop_duplicates(subset='caldt', keep=\"first\")\n",
    "RYDHX['date'] = pd.to_datetime(RYDHX['caldt'], format='%Y%m%d').dt.to_period('M')\n",
    "RYDHX=RYDHX.set_index('date')\n",
    "RYDHX=RYDHX.drop(columns=['caldt','crsp_fundno','mtna','mret'])\n",
    "RYDHX['RETURN'] = (RYDHX['mnav'] / RYDHX['mnav'].shift(1) - 1)"
   ]
  },
  {
   "cell_type": "code",
   "execution_count": 15,
   "metadata": {},
   "outputs": [],
   "source": [
    "# annualized metrics\n",
    "rf=.02\n",
    "\n",
    "dj_rep = pd.DataFrame(djia_rep.apply(lambda x:((1+np.mean(x))**12-1)),columns=['RETURN'])\n",
    "dj_rep['STD'] = djia_rep.apply(lambda x: np.std(x)*np.sqrt(12))\n",
    "dj_rep['SHARPE'] = (dj_rep['RETURN']-rf)/dj_rep['STD']\n",
    "dj_rep=dj_rep.drop(['INDEX_PRICE'], axis=0)\n",
    "dj_rep = dj_rep.rename(index={'RETURN': 'DJIA Replication'})\n",
    "\n",
    "m_stats = pd.DataFrame(RYDHX.apply(lambda x:((1+np.mean(x))**12-1)),columns=['RETURN'])\n",
    "m_stats['STD'] = RYDHX.apply(lambda x: np.std(x)*np.sqrt(12))\n",
    "m_stats['SHARPE'] = (m_stats['RETURN']-rf)/m_stats['STD']\n",
    "m_stats=m_stats.drop(['mnav'], axis=0)\n",
    "m_stats = m_stats.rename(index={'RETURN': 'RYDHX'})\n",
    "\n",
    "dj_stats = pd.DataFrame(dji.apply(lambda x:((1+np.mean(x))**12-1)),columns=['RETURN'])\n",
    "dj_stats['STD'] = dji.apply(lambda x: np.std(x)*np.sqrt(12))\n",
    "dj_stats['SHARPE'] = (dj_stats['RETURN']-rf)/dj_stats['STD']\n",
    "dj_stats=dj_stats.drop(['Adj Close'], axis=0)\n",
    "dj_stats = dj_stats.rename(index={'RETURN': 'DJIA'})\n",
    " \n",
    "dia_stats = pd.DataFrame(DIA.apply(lambda x:((1+np.mean(x))**12-1)),columns=['RETURN'])\n",
    "dia_stats['STD'] = DIA.apply(lambda x: np.std(x)*np.sqrt(12))\n",
    "dia_stats['SHARPE'] = (dia_stats['RETURN']-rf)/dia_stats['STD']\n",
    "dia_stats=dia_stats.drop(['PRC_ADJ'], axis=0)\n",
    "dia_stats = dia_stats.rename(index={'RETURN': 'DIA'})\n",
    "\n",
    "dj_rep=dj_rep.append(m_stats)\n",
    "dj_rep=dj_rep.append(dj_stats)\n",
    "dj_rep=dj_rep.append(dia_stats)"
   ]
  },
  {
   "cell_type": "code",
   "execution_count": 16,
   "metadata": {},
   "outputs": [
    {
     "name": "stdout",
     "output_type": "stream",
     "text": [
      "Populating the interactive namespace from numpy and matplotlib\n"
     ]
    },
    {
     "data": {
      "text/plain": [
       "<matplotlib.legend.Legend at 0x7fadb4fa51d0>"
      ]
     },
     "execution_count": 16,
     "metadata": {},
     "output_type": "execute_result"
    },
    {
     "data": {
      "image/png": "[encoded data removed]",
      "text/plain": [
       "<Figure size 432x288 with 1 Axes>"
      ]
     },
     "metadata": {
      "needs_background": "light"
     },
     "output_type": "display_data"
    }
   ],
   "source": [
    "# Plot the prices of the replication, the index, the mutual fund, and the ETF\n",
    "%pylab inline\n",
    "\n",
    "djia_rep['INDEX_PRICE'].plot(label='My replication', color='blue')\n",
    "RYDHX_1=RYDHX['mnav']*330 # multiply RYDHX by 330 to match the scale of the dow jones\n",
    "RYDHX_1.plot(label='RYDHX', color='orange')\n",
    "DIA_x = DIA['PRC_ADJ']*100\n",
    "DIA_x.plot(label='DIA',color='red')\n",
    "dji['Adj Close'].plot(label='DJIA', color='green')\n",
    "legend(loc='best')"
   ]
  },
  {
   "cell_type": "markdown",
   "metadata": {},
   "source": [
    "DIA matches the DJIA very well, so DJIA (green line) covers DIA (red line) on the plot. \n",
    "\n",
    "Also note RYDEX was only created in 2015, and it is scaled to the dow jones"
   ]
  },
  {
   "cell_type": "code",
   "execution_count": 17,
   "metadata": {},
   "outputs": [
    {
     "name": "stdout",
     "output_type": "stream",
     "text": [
      "                    RETURN       STD    SHARPE\n",
      "DJIA Replication  0.100301  0.125935  0.637641\n",
      "RYDHX             0.140652  0.117229  1.029203\n",
      "DJIA              0.118726  0.119869  0.823618\n",
      "DIA               0.114020  0.120531  0.780045 \n",
      "\n",
      "Pairwise correlation\n",
      "                 DIA RETURN  DJIA RETURN     RYDHX  DJIA REP RETURN\n",
      "DIA RETURN         1.000000     0.999494  0.972071         0.329099\n",
      "DJIA RETURN        0.999494     1.000000  0.970131         0.337788\n",
      "RYDHX              0.972071     0.970131  1.000000         0.232456\n",
      "DJIA REP RETURN    0.329099     0.337788  0.232456         1.000000\n"
     ]
    }
   ],
   "source": [
    "# Caculate correlation and print annualized metrics\n",
    "djia_cor = pd.DataFrame({\"DIA RETURN\":DIA['RETURN'],\"DJIA RETURN\":dji['RETURN'],\\\n",
    "                         \"RYDHX\":RYDHX['RETURN'], \"DJIA REP RETURN\":djia_rep['RETURN'] }) \n",
    "print(dj_rep,'\\n')\n",
    "print('Pairwise correlation')\n",
    "print(djia_cor.corr())"
   ]
  }
 ],
 "metadata": {
  "kernelspec": {
   "display_name": "Python 3",
   "language": "python",
   "name": "python3"
  },
  "language_info": {
   "codemirror_mode": {
    "name": "ipython",
    "version": 3
   },
   "file_extension": ".py",
   "mimetype": "text/x-python",
   "name": "python",
   "nbconvert_exporter": "python",
   "pygments_lexer": "ipython3",
   "version": "3.7.6"
  }
 },
 "nbformat": 4,
 "nbformat_minor": 4
}
