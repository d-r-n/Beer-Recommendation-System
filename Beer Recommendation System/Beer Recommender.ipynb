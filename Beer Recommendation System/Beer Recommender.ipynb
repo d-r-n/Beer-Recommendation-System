{
 "cells": [
  {
   "cell_type": "code",
   "execution_count": 30,
   "metadata": {},
   "outputs": [
    {
     "name": "stdout",
     "output_type": "stream",
     "text": [
      "usage: cp [-R [-H | -L | -P]] [-fi | -n] [-apvXc] source_file target_file\r\n",
      "       cp [-R [-H | -L | -P]] [-fi | -n] [-apvXc] source_file ... target_directory\r\n"
     ]
    }
   ],
   "source": [
    "#!pip install selenium\n",
    "#!apt-get -q update # to update ubuntu to correctly run apt install\n",
    "#!apt install -yq chromium-chromedriver\n",
    "!cp /Users/DRNPRO/Documents/chromedriver\n",
    "\n",
    "import sys\n",
    "sys.path.insert(0,'/Users/DRNPRO/Documents/chromedriver')\n",
    "from selenium import webdriver\n",
    "chrome_options = webdriver.ChromeOptions()\n",
    "chrome_options.add_argument('--headless')\n",
    "chrome_options.add_argument('--no-sandbox')\n",
    "chrome_options.add_argument('--disable-dev-shm-usage')"
   ]
  },
  {
   "cell_type": "code",
   "execution_count": 32,
   "metadata": {},
   "outputs": [],
   "source": [
    "def altElement(l):\n",
    "    return l[::2]\n",
    "\n",
    "# removes extra data that comes with each comment\n",
    "def split_comment(s):\n",
    "    splitted = s.split('\\n')\n",
    "    comment_body = splitted[5:-2]\n",
    "    return comment_body\n",
    "\n",
    "# converts comments to a string and removes brackets\n",
    "def list_to_string(x):\n",
    "    string = str(x)\n",
    "    return string.rstrip(']').lstrip('[')"
   ]
  },
  {
   "cell_type": "code",
   "execution_count": 33,
   "metadata": {},
   "outputs": [],
   "source": [
    "import pandas as pd\n",
    "driver = webdriver.Chrome('/Users/DRNPRO/Documents/chromedriver', options=chrome_options)\n",
    "driver.get('https://www.beeradvocate.com/beer/top-rated/')\n",
    "urls = []\n",
    "beer_names = []\n",
    "\n",
    "# Get list of beer urls\n",
    "url_paths = driver.find_elements_by_xpath('//*[contains(@href, \"/beer/profile/\")]')\n",
    "for i in url_paths:\n",
    "    urls.append(i.get_attribute('href'))\n",
    "beer_urls = altElement(urls)\n",
    "\n",
    "# Get list of beer names\n",
    "beer_name = driver.find_elements_by_xpath('//*[contains(@href, \"/beer/profile/\")]')\n",
    "for i in beer_name:\n",
    "    beer_names.append(i.text)\n",
    "beer_names = altElement(beer_names)"
   ]
  },
  {
   "cell_type": "code",
   "execution_count": null,
   "metadata": {},
   "outputs": [],
   "source": [
    "# scrape comments for each beer\n",
    "beer = pd.DataFrame(columns = ['product_name','product_review','user_rating'])\n",
    "\n",
    "\n",
    "for beer_page in beer_urls:\n",
    "    driver.get(beer_page)\n",
    "    ids = driver.find_elements_by_xpath(\"//*[contains(@id,'rating_fullview_container')]\")\n",
    "    comment_ids = []\n",
    "    for i in ids:\n",
    "        comment_ids.append(i.get_attribute('ba-user'))\n",
    "\n",
    "    for x in comment_ids:\n",
    "        \n",
    "        product_name = driver.find_elements_by_xpath('//*[@id=\"content\"]/div/div/div[3]/div/div/div[1]/h1')[0]\n",
    "        product = product_name.text.split('\\n')[0]\n",
    "\n",
    "        user_message = driver.find_elements_by_xpath('//*[@ba-user= ' + x + ']')[0]\n",
    "        comment = user_message.text\n",
    "\n",
    "        user_rating = driver.find_elements_by_xpath('//*[@ba-user= ' + x + ']//*[@id=\"rating_fullview_content_2\"]/span[2]')[0]\n",
    "        rating = user_rating.text\n",
    "\n",
    "        beer.loc[len(beer)] = [product,comment,rating]\n",
    "\n",
    "beer['product_review'] = beer['product_review'].map(split_comment)\n",
    "beer['product_review'] = beer['product_review'].map(list_to_string)\n",
    "\n",
    "beer.to_csv('beer.csv')\n",
    "print(\"Beer data exported to beer.csv :)\")"
   ]
  },
  {
   "cell_type": "code",
   "execution_count": null,
   "metadata": {},
   "outputs": [],
   "source": [
    "df = pd.read_csv('beer.csv')"
   ]
  },
  {
   "cell_type": "code",
   "execution_count": null,
   "metadata": {},
   "outputs": [],
   "source": [
    "df = df.drop(['Unnamed: 0'], axis=1)\n",
    "df.head()"
   ]
  },
  {
   "cell_type": "code",
   "execution_count": null,
   "metadata": {},
   "outputs": [],
   "source": [
    "reviews = df.product_review\n",
    "reviews.head()"
   ]
  },
  {
   "cell_type": "code",
   "execution_count": null,
   "metadata": {},
   "outputs": [],
   "source": [
    "# Attributes to look for\n",
    "original_atts = ['complex', 'spicy', 'aroma']"
   ]
  },
  {
   "cell_type": "code",
   "execution_count": null,
   "metadata": {},
   "outputs": [],
   "source": [
    "from sklearn.feature_extraction.text import TfidfVectorizer\n",
    "from sklearn.metrics.pairwise import cosine_similarity\n",
    "from gensim.parsing.preprocessing import remove_stopwords\n",
    "\n",
    "import string\n",
    "from string import punctuation\n",
    "import translate"
   ]
  }
 ],
 "metadata": {
  "kernelspec": {
   "display_name": "Python 3",
   "language": "python",
   "name": "python3"
  },
  "language_info": {
   "codemirror_mode": {
    "name": "ipython",
    "version": 3
   },
   "file_extension": ".py",
   "mimetype": "text/x-python",
   "name": "python",
   "nbconvert_exporter": "python",
   "pygments_lexer": "ipython3",
   "version": "3.7.6"
  }
 },
 "nbformat": 4,
 "nbformat_minor": 4
}
