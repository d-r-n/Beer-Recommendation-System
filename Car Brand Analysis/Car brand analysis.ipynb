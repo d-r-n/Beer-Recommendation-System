{
 "cells": [
  {
   "cell_type": "markdown",
   "metadata": {
    "colab_type": "text",
    "id": "IRDB0LQaLu-L"
   },
   "source": [
    "**Scraping data from an Edmunds car forum to give advice/insights to brand, product, and advertising managers for future success in their respective car brand companies. As an analytics consultant, I draw conclusions as to what car brands people are mostly talking about and attributes that are associated with them.**\n",
    "\n",
    "\n",
    "\n",
    "https://forums.edmunds.com/discussion/4119/general/x/project-cars-you-get-to-vote-on-hold-em-or-fold-em/p\n",
    "\n",
    "---\n",
    "\n"
   ]
  },
  {
   "cell_type": "code",
   "execution_count": 1,
   "metadata": {
    "colab": {
     "base_uri": "https://localhost:8080/",
     "height": 1000
    },
    "colab_type": "code",
    "id": "WS5rnphw3qXo",
    "outputId": "c32f5f1c-a4d4-4d62-97d1-31e33a793c16"
   },
   "outputs": [],
   "source": [
    "import pandas as pd\n",
    "import numpy as np\n",
    "import re\n",
    "\n",
    "import sys\n",
    "sys.path.insert(0,'')\n",
    "from selenium import webdriver\n",
    "chrome_options = webdriver.ChromeOptions()\n",
    "chrome_options.add_argument('--headless')\n",
    "chrome_options.add_argument('--no-sandbox')\n",
    "chrome_options.add_argument('--disable-dev-shm-usage')"
   ]
  },
  {
   "cell_type": "code",
   "execution_count": 2,
   "metadata": {
    "colab": {},
    "colab_type": "code",
    "id": "r3AH1wjO4CXl"
   },
   "outputs": [],
   "source": [
    "cars = pd.read_csv(\"car_models_and_brands.csv\")\n",
    "aspirational_phrases = cars[-26:]\n",
    "car_brand = cars[\"model\"].unique()\n",
    "cars_dict = cars.set_index('model').to_dict()\n",
    "cars_dict = cars_dict['brand']"
   ]
  },
  {
   "cell_type": "code",
   "execution_count": 26,
   "metadata": {
    "colab": {},
    "colab_type": "code",
    "id": "dUHaZH0R4C5_"
   },
   "outputs": [],
   "source": [
    "def model_replace(s):\n",
    "    for key in cars_dict:\n",
    "        if key in s:\n",
    "            s = s.replace(key, cars_dict[key])\n",
    "            s = re.sub(r\"\\b{}\\b\".format(cars_dict[key]), str(cars_dict[key]), s)\n",
    "    return s"
   ]
  },
  {
   "cell_type": "code",
   "execution_count": 4,
   "metadata": {
    "colab": {
     "base_uri": "https://localhost:8080/",
     "height": 33
    },
    "colab_type": "code",
    "id": "gdSYkP9j55YE",
    "outputId": "a81e5759-74bc-4016-b359-0f4250ae41ca"
   },
   "outputs": [
    {
     "name": "stdout",
     "output_type": "stream",
     "text": [
      "Edmunds data exported to raw_data.csv\n"
     ]
    }
   ],
   "source": [
    "page_range = (range(1,120))\n",
    "comments = pd.DataFrame(columns = ['Date','user_id','comments']) \n",
    "\n",
    "# initialize dictionary\n",
    "from collections import defaultdict\n",
    "from selenium import common\n",
    "\n",
    "car_freq = defaultdict(int)\n",
    "\n",
    "driver = webdriver.Chrome('/Users/DRNPRO/Documents/chromedriver', options=chrome_options)\n",
    "\n",
    "#driver.set_page_load_timeout(20) # set whatever time out limit you want\n",
    "\n",
    "for page in page_range:\n",
    "    try:\n",
    "        driver.get('https://forums.edmunds.com/discussion/4119/general/x/project-cars-you-get-to-vote-on-hold-em-or-fold-em/p' + str(page))\n",
    "        ids = driver.find_elements_by_xpath(\"//*[contains(@id,'Comment_')]\")\n",
    "        comment_ids = []\n",
    "        for i in ids:\n",
    "            comment_ids.append(i.get_attribute('id'))\n",
    "\n",
    "        for x in comment_ids:\n",
    "            #Extract dates from for each user on a page\n",
    "            user_date = driver.find_elements_by_xpath('//*[@id=\"' + x +'\"]/div/div[2]/div[2]/span[1]/a/time')[0]\n",
    "            date = user_date.get_attribute('title')\n",
    "\n",
    "            #Extract user ids from each user on a page\n",
    "            userid_element = driver.find_elements_by_xpath('//*[@id=\"' + x +'\"]/div/div[2]/div[1]/span[1]/a[2]')[0]\n",
    "            userid = userid_element.text\n",
    "\n",
    "            #Extract Message for each user on a page\n",
    "            user_message = driver.find_elements_by_xpath('//*[@id=\"' + x +'\"]/div/div[3]/div/div[1]')[0]\n",
    "            comment = user_message.text\n",
    "\n",
    "            #Adding date, userid and comment for each user in a dataframe    \n",
    "            comments.loc[len(comments)] = [date,userid,comment]\n",
    "\n",
    "    except common.exceptions.TimeoutException:\n",
    "        continue # go onto next page / itteration of forloop\n",
    "\n",
    "for i in range((comments.shape[0])): \n",
    "    comments.loc[i,'comments'] = comments.loc[i,'comments'].lower()\n",
    "\n",
    "comments.to_csv('raw_data.csv')\n",
    "\n",
    "print(\"Edmunds data exported to raw_data.csv\")"
   ]
  },
  {
   "cell_type": "code",
   "execution_count": 27,
   "metadata": {
    "colab": {},
    "colab_type": "code",
    "id": "goIysskHVru4"
   },
   "outputs": [
    {
     "data": {
      "text/plain": [
       "0       okay, whaddya think about this for $1,000? (i'...\n",
       "1       save the useful trim pieces and obscure bits\\n...\n",
       "2       because i kinda like those things. the body ac...\n",
       "3       c'mon andre, you're not following the rules (b...\n",
       "4       that i think it should be saved, but i'm not g...\n",
       "                              ...                        \n",
       "5745                 oh the humanity part ii\\n\\ncrackhead\n",
       "5746    oops. seller accidentally added an extra zero ...\n",
       "5747    sureee it is. just like when i go bargin shopp...\n",
       "5748    my mom had a silver '79 for the longest time -...\n",
       "5749    bimmer for $8k over retail\\n\\nwhen clones go b...\n",
       "Name: comments, Length: 5750, dtype: object"
      ]
     },
     "execution_count": 27,
     "metadata": {},
     "output_type": "execute_result"
    }
   ],
   "source": [
    "df = pd.read_csv('raw_data.csv')\n",
    "# replacing car models with the brand name\n",
    "df['comments'] = df['comments'].astype(str).map(model_replace)\n",
    "text = df['comments']\n",
    "text"
   ]
  },
  {
   "cell_type": "code",
   "execution_count": 28,
   "metadata": {
    "colab": {},
    "colab_type": "code",
    "id": "palwzo2MaQLy"
   },
   "outputs": [],
   "source": [
    "from sklearn.feature_extraction.text import CountVectorizer\n",
    "\n",
    "CountVec = CountVectorizer(ngram_range=(1,1), # to use bigrams ngram_range=(2,2)\n",
    "                           stop_words='english')\n",
    "\n",
    "# transform the vectorized count\n",
    "Count_data = CountVec.fit_transform(text)\n",
    " \n",
    "#create dataframe of the counts for each word\n",
    "cv_dataframe=pd.DataFrame(Count_data.toarray(),columns=CountVec.get_feature_names())"
   ]
  },
  {
   "cell_type": "code",
   "execution_count": 29,
   "metadata": {
    "colab": {},
    "colab_type": "code",
    "id": "tkx-CaVsaQ_H"
   },
   "outputs": [],
   "source": [
    "# function to only change the word counts to be 1 per comments\n",
    "def count_fix(s):\n",
    "    if s > 1:\n",
    "        return 1\n",
    "    else:\n",
    "        return s"
   ]
  },
  {
   "cell_type": "code",
   "execution_count": 30,
   "metadata": {
    "colab": {},
    "colab_type": "code",
    "id": "rikegDDmaQtq"
   },
   "outputs": [],
   "source": [
    "# changing the counts to just count words once per comment\n",
    "bow_counts = cv_dataframe.applymap(count_fix)"
   ]
  },
  {
   "cell_type": "code",
   "execution_count": 31,
   "metadata": {
    "colab": {},
    "colab_type": "code",
    "id": "iyyHvLOZaNbb"
   },
   "outputs": [],
   "source": [
    "# function to sum the mention counts of each word\n",
    "def sum_words(s):\n",
    "    return sum(s)\n"
   ]
  },
  {
   "cell_type": "code",
   "execution_count": 32,
   "metadata": {
    "colab": {
     "base_uri": "https://localhost:8080/",
     "height": 200
    },
    "colab_type": "code",
    "id": "-kDfLVZXaNPQ",
    "outputId": "eef85a81-e7ec-4b46-9b77-d1aa7ca0ad76"
   },
   "outputs": [
    {
     "data": {
      "text/plain": [
       "car       2780\n",
       "like      1779\n",
       "just      1243\n",
       "think     1196\n",
       "good       860\n",
       "really     843\n",
       "don        829\n",
       "old        764\n",
       "nice       704\n",
       "looks      687\n",
       "dtype: int64"
      ]
     },
     "execution_count": 32,
     "metadata": {},
     "output_type": "execute_result"
    }
   ],
   "source": [
    "# summing the word frequencies\n",
    "freqs = bow_counts.apply(sum_words).sort_values(ascending = False)\n",
    "\n",
    "# storing frequency counts in csv file\n",
    "freqs.to_csv('frequencies.csv')\n",
    "freqs[:10]"
   ]
  },
  {
   "cell_type": "markdown",
   "metadata": {
    "colab_type": "text",
    "id": "R8KmC3MmNtPG"
   },
   "source": [
    "**PRINT FREQUENCY TABLE (1x10)**\n",
    "\n",
    "\n",
    "\n",
    "\n"
   ]
  },
  {
   "cell_type": "code",
   "execution_count": 33,
   "metadata": {
    "colab": {},
    "colab_type": "code",
    "id": "cK9thAk0xB7Y"
   },
   "outputs": [],
   "source": [
    "# list of the top ten cars mentioned and the top five cars mentioned\n",
    "top_ten = ['chevrolet', 'ford', 'porsche', 'mercedes', 'dodge', 'honda', 'toyota', 'chrysler', 'pontiac', 'bmw']\n",
    "top_five = ['chevrolet', 'ford', 'porsche', 'mercedes', 'dodge']\n",
    "\n",
    "top_ten_bow = bow_counts[top_ten]\n",
    "top_five_bow = bow_counts[top_five]\n",
    "\n",
    "# top five mentioned attributes\n",
    "top_att = ['engine', 'price', 'interior', 'hp','rust']\n",
    "\n",
    "# create car brands matrix \n",
    "brand_matrix = pd.DataFrame(columns = top_ten)\n",
    "for cars in top_ten:\n",
    "    brand_matrix = brand_matrix.append(pd.Series(0, index=brand_matrix.columns), ignore_index=True)\n",
    "brand_matrix['cars'] = top_ten\n",
    "brand_matrix = brand_matrix.set_index('cars')"
   ]
  },
  {
   "cell_type": "code",
   "execution_count": 34,
   "metadata": {
    "colab": {},
    "colab_type": "code",
    "id": "Kt_KVfu96hOj"
   },
   "outputs": [],
   "source": [
    "# calculate lift function\n",
    "def calc_lift(a, b):\n",
    "    total_size = len(df)\n",
    "    filter_a = df[df['comments'].str.contains(a)]\n",
    "    num_a = len(filter_a)\n",
    "    num_b = len(df[df['comments'].str.contains(b)])\n",
    "    num_a_b = len(filter_a['comments'][filter_a['comments'].str.contains(b)])\n",
    "    return total_size*float(num_a_b)/float(num_a*num_b)\n"
   ]
  },
  {
   "cell_type": "code",
   "execution_count": 38,
   "metadata": {
    "colab": {},
    "colab_type": "code",
    "id": "q5qM642yho5y"
   },
   "outputs": [],
   "source": [
    "## halfing functions\n",
    "def half_lift(df):\n",
    "    i = 0\n",
    "    while i < len(df.columns):\n",
    "        j = 0\n",
    "        while j < i + 1:\n",
    "            if i == j:\n",
    "                df[df.columns[j]][df.index[i]] = ' '\n",
    "            else:\n",
    "                df[df.columns[j]][df.index[i]] = ' ' \n",
    "            j += 1\n",
    "        i += 1\n",
    "    return df\n",
    "\n",
    "def half_mds(df):\n",
    "    i = 0\n",
    "    while i < len(df.columns):\n",
    "        j = 0\n",
    "        while j < i + 1:\n",
    "            if i == j:\n",
    "                df[df.columns[j]][df.index[i]] = 0\n",
    "            else:\n",
    "                df[df.columns[j]][df.index[i]] = ' '\n",
    "            j += 1\n",
    "        i += 1\n",
    "    return df"
   ]
  },
  {
   "cell_type": "code",
   "execution_count": 39,
   "metadata": {
    "colab": {
     "base_uri": "https://localhost:8080/",
     "height": 394
    },
    "colab_type": "code",
    "id": "JFBdSQzBGUNE",
    "outputId": "6bd8161c-af0e-443e-de97-3b468d685610"
   },
   "outputs": [
    {
     "name": "stdout",
     "output_type": "stream",
     "text": [
      "Lift matrix of brands:\n"
     ]
    },
    {
     "data": {
      "text/html": [
       "<div>\n",
       "<style scoped>\n",
       "    .dataframe tbody tr th:only-of-type {\n",
       "        vertical-align: middle;\n",
       "    }\n",
       "\n",
       "    .dataframe tbody tr th {\n",
       "        vertical-align: top;\n",
       "    }\n",
       "\n",
       "    .dataframe thead th {\n",
       "        text-align: right;\n",
       "    }\n",
       "</style>\n",
       "<table border=\"1\" class=\"dataframe\">\n",
       "  <thead>\n",
       "    <tr style=\"text-align: right;\">\n",
       "      <th></th>\n",
       "      <th>chevrolet</th>\n",
       "      <th>ford</th>\n",
       "      <th>porsche</th>\n",
       "      <th>mercedes</th>\n",
       "      <th>dodge</th>\n",
       "      <th>honda</th>\n",
       "      <th>toyota</th>\n",
       "      <th>chrysler</th>\n",
       "      <th>pontiac</th>\n",
       "      <th>bmw</th>\n",
       "    </tr>\n",
       "    <tr>\n",
       "      <th>cars</th>\n",
       "      <th></th>\n",
       "      <th></th>\n",
       "      <th></th>\n",
       "      <th></th>\n",
       "      <th></th>\n",
       "      <th></th>\n",
       "      <th></th>\n",
       "      <th></th>\n",
       "      <th></th>\n",
       "      <th></th>\n",
       "    </tr>\n",
       "  </thead>\n",
       "  <tbody>\n",
       "    <tr>\n",
       "      <th>chevrolet</th>\n",
       "      <td></td>\n",
       "      <td>2.52313</td>\n",
       "      <td>1.36662</td>\n",
       "      <td>0.993664</td>\n",
       "      <td>2.2944</td>\n",
       "      <td>1.77111</td>\n",
       "      <td>1.4203</td>\n",
       "      <td>1.67895</td>\n",
       "      <td>2.59056</td>\n",
       "      <td>1.42105</td>\n",
       "    </tr>\n",
       "    <tr>\n",
       "      <th>ford</th>\n",
       "      <td></td>\n",
       "      <td></td>\n",
       "      <td>1.23745</td>\n",
       "      <td>1.04692</td>\n",
       "      <td>2.20205</td>\n",
       "      <td>1.52676</td>\n",
       "      <td>1.49798</td>\n",
       "      <td>2.91582</td>\n",
       "      <td>1.98406</td>\n",
       "      <td>0.872865</td>\n",
       "    </tr>\n",
       "    <tr>\n",
       "      <th>porsche</th>\n",
       "      <td></td>\n",
       "      <td></td>\n",
       "      <td></td>\n",
       "      <td>2.56001</td>\n",
       "      <td>1.27826</td>\n",
       "      <td>1.46087</td>\n",
       "      <td>1.16096</td>\n",
       "      <td>0.4836</td>\n",
       "      <td>0.522324</td>\n",
       "      <td>1.2064</td>\n",
       "    </tr>\n",
       "    <tr>\n",
       "      <th>mercedes</th>\n",
       "      <td></td>\n",
       "      <td></td>\n",
       "      <td></td>\n",
       "      <td></td>\n",
       "      <td>0.998264</td>\n",
       "      <td>0.855655</td>\n",
       "      <td>1.40531</td>\n",
       "      <td>0.566502</td>\n",
       "      <td>0.152966</td>\n",
       "      <td>2.47312</td>\n",
       "    </tr>\n",
       "    <tr>\n",
       "      <th>dodge</th>\n",
       "      <td></td>\n",
       "      <td></td>\n",
       "      <td></td>\n",
       "      <td></td>\n",
       "      <td></td>\n",
       "      <td>1.66377</td>\n",
       "      <td>1.723</td>\n",
       "      <td>3.40787</td>\n",
       "      <td>2.25864</td>\n",
       "      <td>0.966062</td>\n",
       "    </tr>\n",
       "    <tr>\n",
       "      <th>honda</th>\n",
       "      <td></td>\n",
       "      <td></td>\n",
       "      <td></td>\n",
       "      <td></td>\n",
       "      <td></td>\n",
       "      <td></td>\n",
       "      <td>1.57012</td>\n",
       "      <td>2.47845</td>\n",
       "      <td>1.78461</td>\n",
       "      <td>1.67451</td>\n",
       "    </tr>\n",
       "    <tr>\n",
       "      <th>toyota</th>\n",
       "      <td></td>\n",
       "      <td></td>\n",
       "      <td></td>\n",
       "      <td></td>\n",
       "      <td></td>\n",
       "      <td></td>\n",
       "      <td></td>\n",
       "      <td>1.70701</td>\n",
       "      <td>1.64869</td>\n",
       "      <td>1.10553</td>\n",
       "    </tr>\n",
       "    <tr>\n",
       "      <th>chrysler</th>\n",
       "      <td></td>\n",
       "      <td></td>\n",
       "      <td></td>\n",
       "      <td></td>\n",
       "      <td></td>\n",
       "      <td></td>\n",
       "      <td></td>\n",
       "      <td></td>\n",
       "      <td>3.10152</td>\n",
       "      <td>2.5584</td>\n",
       "    </tr>\n",
       "    <tr>\n",
       "      <th>pontiac</th>\n",
       "      <td></td>\n",
       "      <td></td>\n",
       "      <td></td>\n",
       "      <td></td>\n",
       "      <td></td>\n",
       "      <td></td>\n",
       "      <td></td>\n",
       "      <td></td>\n",
       "      <td></td>\n",
       "      <td>0.828978</td>\n",
       "    </tr>\n",
       "    <tr>\n",
       "      <th>bmw</th>\n",
       "      <td></td>\n",
       "      <td></td>\n",
       "      <td></td>\n",
       "      <td></td>\n",
       "      <td></td>\n",
       "      <td></td>\n",
       "      <td></td>\n",
       "      <td></td>\n",
       "      <td></td>\n",
       "      <td></td>\n",
       "    </tr>\n",
       "  </tbody>\n",
       "</table>\n",
       "</div>"
      ],
      "text/plain": [
       "          chevrolet     ford  porsche  mercedes     dodge     honda   toyota  \\\n",
       "cars                                                                           \n",
       "chevrolet            2.52313  1.36662  0.993664    2.2944   1.77111   1.4203   \n",
       "ford                          1.23745   1.04692   2.20205   1.52676  1.49798   \n",
       "porsche                                 2.56001   1.27826   1.46087  1.16096   \n",
       "mercedes                                         0.998264  0.855655  1.40531   \n",
       "dodge                                                       1.66377    1.723   \n",
       "honda                                                                1.57012   \n",
       "toyota                                                                         \n",
       "chrysler                                                                       \n",
       "pontiac                                                                        \n",
       "bmw                                                                            \n",
       "\n",
       "           chrysler   pontiac       bmw  \n",
       "cars                                     \n",
       "chevrolet   1.67895   2.59056   1.42105  \n",
       "ford        2.91582   1.98406  0.872865  \n",
       "porsche      0.4836  0.522324    1.2064  \n",
       "mercedes   0.566502  0.152966   2.47312  \n",
       "dodge       3.40787   2.25864  0.966062  \n",
       "honda       2.47845   1.78461   1.67451  \n",
       "toyota      1.70701   1.64869   1.10553  \n",
       "chrysler              3.10152    2.5584  \n",
       "pontiac                        0.828978  \n",
       "bmw                                      "
      ]
     },
     "execution_count": 39,
     "metadata": {},
     "output_type": "execute_result"
    }
   ],
   "source": [
    "# calculate lift between brands\n",
    "import copy\n",
    "\n",
    "df = df.dropna(how='any')\n",
    "lift_matrix = copy.deepcopy(brand_matrix)\n",
    "\n",
    "for brand1, series in list(lift_matrix.iterrows()):\n",
    "    for brand2 in series.index:\n",
    "        lift_matrix[brand2].loc[brand1] = calc_lift(brand1, brand2)\n",
    "\n",
    "print('Lift matrix of brands:')\n",
    "dissimilarity = copy.deepcopy(lift_matrix)\n",
    "half_lift(lift_matrix)"
   ]
  },
  {
   "cell_type": "markdown",
   "metadata": {
    "colab_type": "text",
    "id": "PQD0twUOvktw"
   },
   "source": [
    "**Task B**.\n",
    "\n",
    "\n",
    "I extracted unstructured data from an Edmunds forum titled “Project Cars -- You Get to Vote on ‘Hold ‘em or Fold ‘em’” and found the top ten car brands that users were posting about in order to offer beneficial insights to car brand managers. After extracting the comments from the forum and isolating the occurence of brand names, I calculated lift ratios to determine which car brands were most commonly associated with one another. I found that Chrysler and Dodge were the two most commonly associated car brands (lift = 3.40787). This makes sense considering the two brands are owned by the same company, Fiat Chrysler Automobiles, though it still merits investigation to determine whether those comments were simply talking about the brand or comparing two very different cars. Chrysler was involved with an entirely separate car brand in Pontiac (lift = 3.10152), which merited the second-highest association. Given that Pontiac's associate with Chevrolet (lift = 2.59056) was the third highest, this likely tells us that users were discussing Pontiac's attributes versus that of other brands more often than most other car brands. As Pontiac is a defunct car brand, and the forum is dedicated to determining whether or not to save an old car or sell it, this high association with other brands makes sense.\n",
    "\n",
    "Given that Pontiac is a defunct brand, I would likely be taking this analysis to a Chrysler or Chevrolet brand manager. Since the associations were high with Pontiac, it would be reasonable to assume commenters were suggesting that owners of Pontiacs should look into the purchase of either a Chevrolet or Chrysler instead of keeping their old Pontiac. Taking a deep dive into these comments to understand why this might be the case should prove useful to the brand manager of either Chrysler or Chevrolet, as it will give them insights into why owners of their cars would suggest them to other people, or why customers in the market for a new car would consider Chrysler or Chevrolet following the purchase of a Pontiac.\n"
   ]
  },
  {
   "cell_type": "code",
   "execution_count": 40,
   "metadata": {
    "colab": {
     "base_uri": "https://localhost:8080/",
     "height": 394
    },
    "colab_type": "code",
    "id": "VD2LhG_1akJs",
    "outputId": "b7aaa062-2581-4708-c033-79b45d2f8764"
   },
   "outputs": [
    {
     "name": "stdout",
     "output_type": "stream",
     "text": [
      "Lift dissimilarity matrix of brands:\n"
     ]
    },
    {
     "data": {
      "text/html": [
       "<div>\n",
       "<style scoped>\n",
       "    .dataframe tbody tr th:only-of-type {\n",
       "        vertical-align: middle;\n",
       "    }\n",
       "\n",
       "    .dataframe tbody tr th {\n",
       "        vertical-align: top;\n",
       "    }\n",
       "\n",
       "    .dataframe thead th {\n",
       "        text-align: right;\n",
       "    }\n",
       "</style>\n",
       "<table border=\"1\" class=\"dataframe\">\n",
       "  <thead>\n",
       "    <tr style=\"text-align: right;\">\n",
       "      <th></th>\n",
       "      <th>chevrolet</th>\n",
       "      <th>ford</th>\n",
       "      <th>porsche</th>\n",
       "      <th>mercedes</th>\n",
       "      <th>dodge</th>\n",
       "      <th>honda</th>\n",
       "      <th>toyota</th>\n",
       "      <th>chrysler</th>\n",
       "      <th>pontiac</th>\n",
       "      <th>bmw</th>\n",
       "    </tr>\n",
       "    <tr>\n",
       "      <th>cars</th>\n",
       "      <th></th>\n",
       "      <th></th>\n",
       "      <th></th>\n",
       "      <th></th>\n",
       "      <th></th>\n",
       "      <th></th>\n",
       "      <th></th>\n",
       "      <th></th>\n",
       "      <th></th>\n",
       "      <th></th>\n",
       "    </tr>\n",
       "  </thead>\n",
       "  <tbody>\n",
       "    <tr>\n",
       "      <th>chevrolet</th>\n",
       "      <td>0</td>\n",
       "      <td>0.396334</td>\n",
       "      <td>0.73173</td>\n",
       "      <td>1.00638</td>\n",
       "      <td>0.435844</td>\n",
       "      <td>0.564617</td>\n",
       "      <td>0.704075</td>\n",
       "      <td>0.595611</td>\n",
       "      <td>0.386017</td>\n",
       "      <td>0.703707</td>\n",
       "    </tr>\n",
       "    <tr>\n",
       "      <th>ford</th>\n",
       "      <td></td>\n",
       "      <td>0</td>\n",
       "      <td>0.808116</td>\n",
       "      <td>0.955184</td>\n",
       "      <td>0.454122</td>\n",
       "      <td>0.654983</td>\n",
       "      <td>0.667566</td>\n",
       "      <td>0.342957</td>\n",
       "      <td>0.504017</td>\n",
       "      <td>1.14565</td>\n",
       "    </tr>\n",
       "    <tr>\n",
       "      <th>porsche</th>\n",
       "      <td></td>\n",
       "      <td></td>\n",
       "      <td>0</td>\n",
       "      <td>0.390624</td>\n",
       "      <td>0.782311</td>\n",
       "      <td>0.684522</td>\n",
       "      <td>0.861357</td>\n",
       "      <td>2.06783</td>\n",
       "      <td>1.91452</td>\n",
       "      <td>0.828913</td>\n",
       "    </tr>\n",
       "    <tr>\n",
       "      <th>mercedes</th>\n",
       "      <td></td>\n",
       "      <td></td>\n",
       "      <td></td>\n",
       "      <td>0</td>\n",
       "      <td>1.00174</td>\n",
       "      <td>1.1687</td>\n",
       "      <td>0.711585</td>\n",
       "      <td>1.76522</td>\n",
       "      <td>6.53739</td>\n",
       "      <td>0.404348</td>\n",
       "    </tr>\n",
       "    <tr>\n",
       "      <th>dodge</th>\n",
       "      <td></td>\n",
       "      <td></td>\n",
       "      <td></td>\n",
       "      <td></td>\n",
       "      <td>0</td>\n",
       "      <td>0.601043</td>\n",
       "      <td>0.580384</td>\n",
       "      <td>0.293439</td>\n",
       "      <td>0.442744</td>\n",
       "      <td>1.03513</td>\n",
       "    </tr>\n",
       "    <tr>\n",
       "      <th>honda</th>\n",
       "      <td></td>\n",
       "      <td></td>\n",
       "      <td></td>\n",
       "      <td></td>\n",
       "      <td></td>\n",
       "      <td>0</td>\n",
       "      <td>0.636895</td>\n",
       "      <td>0.403478</td>\n",
       "      <td>0.560348</td>\n",
       "      <td>0.597191</td>\n",
       "    </tr>\n",
       "    <tr>\n",
       "      <th>toyota</th>\n",
       "      <td></td>\n",
       "      <td></td>\n",
       "      <td></td>\n",
       "      <td></td>\n",
       "      <td></td>\n",
       "      <td></td>\n",
       "      <td>0</td>\n",
       "      <td>0.585819</td>\n",
       "      <td>0.606541</td>\n",
       "      <td>0.904541</td>\n",
       "    </tr>\n",
       "    <tr>\n",
       "      <th>chrysler</th>\n",
       "      <td></td>\n",
       "      <td></td>\n",
       "      <td></td>\n",
       "      <td></td>\n",
       "      <td></td>\n",
       "      <td></td>\n",
       "      <td></td>\n",
       "      <td>0</td>\n",
       "      <td>0.322422</td>\n",
       "      <td>0.39087</td>\n",
       "    </tr>\n",
       "    <tr>\n",
       "      <th>pontiac</th>\n",
       "      <td></td>\n",
       "      <td></td>\n",
       "      <td></td>\n",
       "      <td></td>\n",
       "      <td></td>\n",
       "      <td></td>\n",
       "      <td></td>\n",
       "      <td></td>\n",
       "      <td>0</td>\n",
       "      <td>1.2063</td>\n",
       "    </tr>\n",
       "    <tr>\n",
       "      <th>bmw</th>\n",
       "      <td></td>\n",
       "      <td></td>\n",
       "      <td></td>\n",
       "      <td></td>\n",
       "      <td></td>\n",
       "      <td></td>\n",
       "      <td></td>\n",
       "      <td></td>\n",
       "      <td></td>\n",
       "      <td>0</td>\n",
       "    </tr>\n",
       "  </tbody>\n",
       "</table>\n",
       "</div>"
      ],
      "text/plain": [
       "          chevrolet      ford   porsche  mercedes     dodge     honda  \\\n",
       "cars                                                                    \n",
       "chevrolet         0  0.396334   0.73173   1.00638  0.435844  0.564617   \n",
       "ford                        0  0.808116  0.955184  0.454122  0.654983   \n",
       "porsche                               0  0.390624  0.782311  0.684522   \n",
       "mercedes                                        0   1.00174    1.1687   \n",
       "dodge                                                     0  0.601043   \n",
       "honda                                                               0   \n",
       "toyota                                                                  \n",
       "chrysler                                                                \n",
       "pontiac                                                                 \n",
       "bmw                                                                     \n",
       "\n",
       "             toyota  chrysler   pontiac       bmw  \n",
       "cars                                               \n",
       "chevrolet  0.704075  0.595611  0.386017  0.703707  \n",
       "ford       0.667566  0.342957  0.504017   1.14565  \n",
       "porsche    0.861357   2.06783   1.91452  0.828913  \n",
       "mercedes   0.711585   1.76522   6.53739  0.404348  \n",
       "dodge      0.580384  0.293439  0.442744   1.03513  \n",
       "honda      0.636895  0.403478  0.560348  0.597191  \n",
       "toyota            0  0.585819  0.606541  0.904541  \n",
       "chrysler                    0  0.322422   0.39087  \n",
       "pontiac                               0    1.2063  \n",
       "bmw                                             0  "
      ]
     },
     "execution_count": 40,
     "metadata": {},
     "output_type": "execute_result"
    }
   ],
   "source": [
    "dissimilarity = 1/dissimilarity\n",
    "dissimilarity_matrix = copy.deepcopy(dissimilarity)\n",
    "print('Lift dissimilarity matrix of brands:')\n",
    "half_mds(dissimilarity_matrix)"
   ]
  },
  {
   "cell_type": "code",
   "execution_count": 41,
   "metadata": {
    "colab": {
     "base_uri": "https://localhost:8080/",
     "height": 357
    },
    "colab_type": "code",
    "id": "BQ-oXHLAQYCO",
    "outputId": "89f6ea0d-3aea-46d6-ec4f-9f45d2da7109"
   },
   "outputs": [
    {
     "data": {
      "text/plain": [
       "<matplotlib.legend.Legend at 0x7fd99d1917d0>"
      ]
     },
     "execution_count": 41,
     "metadata": {},
     "output_type": "execute_result"
    },
    {
     "data": {
      "image/png": "[encoded data removed]",
      "text/plain": [
       "<Figure size 432x288 with 1 Axes>"
      ]
     },
     "metadata": {
      "needs_background": "light"
     },
     "output_type": "display_data"
    }
   ],
   "source": [
    "#MDS\n",
    "import matplotlib.pyplot as plt\n",
    "from sklearn import manifold\n",
    "\n",
    "adist = np.array(dissimilarity)\n",
    "amax = np.amax(adist)\n",
    "adist /= amax\n",
    "\n",
    "mds = manifold.MDS(n_components=2, dissimilarity=\"precomputed\", random_state=7)\n",
    "results = mds.fit(adist)\n",
    "\n",
    "coords = results.embedding_\n",
    "\n",
    "brand_pos = pd.DataFrame(coords).merge(pd.DataFrame(top_ten_bow.columns), left_index=True, right_index=True).set_index('0_y')\n",
    "\n",
    "s = 100\n",
    "fig = plt.figure(1)\n",
    "ax = plt.axes([0., 0., 1., 1.])\n",
    "xs = coords[:, 0]\n",
    "ys = coords[:, 1]\n",
    "plt.scatter(xs, ys, color='turquoise', s=s, lw=0, label='MDS')\n",
    "count = 0\n",
    "for x,y in zip(xs,ys):\n",
    "    label = list(brand_pos.index)\n",
    "    plt.annotate(label[count], # this is the text\n",
    "                 (x,y), # this is the point to label\n",
    "                 textcoords=\"offset points\", # how to position the text\n",
    "                 xytext=(1,10), # distance from text to points (x,y)\n",
    "                 ha='center')\n",
    "    count+=1\n",
    "plt.legend(scatterpoints=1, loc='best', shadow=False)"
   ]
  },
  {
   "cell_type": "code",
   "execution_count": 42,
   "metadata": {
    "colab": {},
    "colab_type": "code",
    "id": "tcpWBT0_emQF"
   },
   "outputs": [],
   "source": [
    "# car brands-attribute matrix dataframe\n",
    "model_att = pd.DataFrame(columns = top_att)\n",
    "for cars in top_ten:\n",
    "    model_att = model_att.append(pd.Series(0, index=model_att.columns), ignore_index=True)\n",
    "model_att['cars'] = top_ten\n",
    "model_att = model_att.set_index('cars')"
   ]
  },
  {
   "cell_type": "markdown",
   "metadata": {
    "colab_type": "text",
    "id": "RrAnpARg15gv"
   },
   "source": [
    "**Task C**.\n",
    "\n",
    "\n",
    "To further our analysis for brand managers, I analyzed the unstructured data to find out which attributes were most commonly talked about in relation to our top car brands. This would give brand managers a deeper insight as to what people typically enjoy, or may not enjoy, about their cars. I found that engine, price, interior, horse power (hp), rust, junk, save, and bad were the top attributes (based on word frequency). \n"
   ]
  },
  {
   "cell_type": "code",
   "execution_count": 43,
   "metadata": {
    "colab": {
     "base_uri": "https://localhost:8080/",
     "height": 344
    },
    "colab_type": "code",
    "id": "PdefIOv-f4tz",
    "outputId": "b4338791-47d0-4d17-dc15-0191d2d85445"
   },
   "outputs": [
    {
     "name": "stdout",
     "output_type": "stream",
     "text": [
      "The Top 5 attributes I chose to look at are:\n",
      "1. engine\n",
      "2. price\n",
      "3. interior\n",
      "4. hp\n",
      "5. rust\n",
      "\n"
     ]
    },
    {
     "data": {
      "text/html": [
       "<div>\n",
       "<style scoped>\n",
       "    .dataframe tbody tr th:only-of-type {\n",
       "        vertical-align: middle;\n",
       "    }\n",
       "\n",
       "    .dataframe tbody tr th {\n",
       "        vertical-align: top;\n",
       "    }\n",
       "\n",
       "    .dataframe thead th {\n",
       "        text-align: right;\n",
       "    }\n",
       "</style>\n",
       "<table border=\"1\" class=\"dataframe\">\n",
       "  <thead>\n",
       "    <tr style=\"text-align: right;\">\n",
       "      <th></th>\n",
       "      <th>engine</th>\n",
       "      <th>price</th>\n",
       "      <th>interior</th>\n",
       "      <th>hp</th>\n",
       "      <th>rust</th>\n",
       "    </tr>\n",
       "    <tr>\n",
       "      <th>cars</th>\n",
       "      <th></th>\n",
       "      <th></th>\n",
       "      <th></th>\n",
       "      <th></th>\n",
       "      <th></th>\n",
       "    </tr>\n",
       "  </thead>\n",
       "  <tbody>\n",
       "    <tr>\n",
       "      <th>chevrolet</th>\n",
       "      <td>1.60448</td>\n",
       "      <td>1.19113</td>\n",
       "      <td>1.69291</td>\n",
       "      <td>2.27892</td>\n",
       "      <td>1.55</td>\n",
       "    </tr>\n",
       "    <tr>\n",
       "      <th>ford</th>\n",
       "      <td>1.49718</td>\n",
       "      <td>1.03047</td>\n",
       "      <td>1.07376</td>\n",
       "      <td>1.80681</td>\n",
       "      <td>1.36613</td>\n",
       "    </tr>\n",
       "    <tr>\n",
       "      <th>porsche</th>\n",
       "      <td>2.56473</td>\n",
       "      <td>1.75933</td>\n",
       "      <td>0.742031</td>\n",
       "      <td>0.799111</td>\n",
       "      <td>1.75793</td>\n",
       "    </tr>\n",
       "    <tr>\n",
       "      <th>mercedes</th>\n",
       "      <td>1.33149</td>\n",
       "      <td>1.57023</td>\n",
       "      <td>1.30385</td>\n",
       "      <td>0.351038</td>\n",
       "      <td>1.37286</td>\n",
       "    </tr>\n",
       "    <tr>\n",
       "      <th>dodge</th>\n",
       "      <td>1.71771</td>\n",
       "      <td>1.05551</td>\n",
       "      <td>1.61624</td>\n",
       "      <td>2.43167</td>\n",
       "      <td>2.29406</td>\n",
       "    </tr>\n",
       "  </tbody>\n",
       "</table>\n",
       "</div>"
      ],
      "text/plain": [
       "            engine    price  interior        hp     rust\n",
       "cars                                                    \n",
       "chevrolet  1.60448  1.19113   1.69291   2.27892     1.55\n",
       "ford       1.49718  1.03047   1.07376   1.80681  1.36613\n",
       "porsche    2.56473  1.75933  0.742031  0.799111  1.75793\n",
       "mercedes   1.33149  1.57023   1.30385  0.351038  1.37286\n",
       "dodge      1.71771  1.05551   1.61624   2.43167  2.29406"
      ]
     },
     "execution_count": 43,
     "metadata": {},
     "output_type": "execute_result"
    }
   ],
   "source": [
    "# lifts for brand and attributes\n",
    "df = df.dropna(how='any')\n",
    "\n",
    "for brand, series in list(model_att.iterrows()):\n",
    "    for att in series.index:\n",
    "        model_att[att].loc[brand] = calc_lift(brand, att)\n",
    "#print('The five attributes we chose to look at are', top_att)\n",
    "\n",
    "\n",
    "top_att = ['engine','price','interior', 'hp', 'rust']\n",
    "print('The Top 5 attributes I chose to look at are:')\n",
    "for att in range(len(top_att)):\n",
    "    print('{}. '.format(att+1)+top_att[att])\n",
    "print(\"\")\n",
    "model_att[:5]"
   ]
  },
  {
   "cell_type": "markdown",
   "metadata": {
    "colab_type": "text",
    "id": "OIcoQLRU5K0z"
   },
   "source": [
    "**Task D**.\n",
    "\n",
    "\n",
    "As seen above, \"engine\" was most commonly associated with Porsche, which should be expected given that Porsche is one of only two performance car brands on the list. It is interesting that BMW was not highly associated with engine, an issue that should be analyzed by BMW. It should be noted though, absent a sentiment analysis, it could be that Porsche is known for engine problems and BMW is not, which would explain the difference in the two association values. \n",
    "\n",
    "\"Price\" was most commonly associated with Porsche, another finding that is in line with the price differences of the most frequently discussed car brands. \n",
    "\n",
    "\"Interior\" was most commonly associated with Chevrolet, which, again absent a sentiment analysis, could mean the interior left something to be desired or was a strength of Chevrolet's. \n",
    "\n",
    "Horse power (\"hp\") was most commonly associated with Dodge and Chevrolet. I would assume that this is in relation the trucks and muscle cars that both brands produce, which rely on horse power as an appealing attribute. However, assumptions are never as good as analysis. The truth could be that users are complaining about the lack of horsepower in their Dodge and Chevrolet models, or talking about how it's not important to them, or some other negative sentiment that could be rooted out with bi- and trigram sentiment analysis. \n",
    "\n",
    "Finally, \"rust\" was most commonly associated with Dodge. It is probably safe to assume that rust rarely comes up if it is not an issue, so Dodge would be well served to investigate this."
   ]
  },
  {
   "cell_type": "code",
   "execution_count": 44,
   "metadata": {
    "colab": {
     "base_uri": "https://localhost:8080/",
     "height": 894
    },
    "colab_type": "code",
    "id": "Ygtceq-eHGeL",
    "outputId": "d2cd1c37-9805-4e68-cfb3-ad522576fd6e"
   },
   "outputs": [
    {
     "name": "stdout",
     "output_type": "stream",
     "text": [
      "The aspirational phrases I chose to look at are:\n",
      "1. want to have\n",
      "2. wish to have\n",
      "3. want to own\n",
      "4. love to own\n",
      "5. love to own\n",
      "6. need to have\n",
      "7. would like to have\n",
      "8. like to own\n",
      "9. would like\n",
      "10. dream car\n",
      "11. kill to\n",
      "12. would like to buy\n",
      "13. wish to own\n",
      "14. love to buy\n",
      "15. want to buy\n",
      "16. have to buy\n",
      "17. need to buy\n",
      "18. need to own\n",
      "19. aspirational\n",
      "20. dream to own\n",
      "21. dream to have\n",
      "22. future car\n",
      "23. in the future\n",
      "24. own in the future\n",
      "25. buy in the future\n",
      "26. aspire\n",
      "\n",
      "\n",
      "Brand and aspiration lifts:\n",
      "\n"
     ]
    },
    {
     "data": {
      "text/html": [
       "<div>\n",
       "<style scoped>\n",
       "    .dataframe tbody tr th:only-of-type {\n",
       "        vertical-align: middle;\n",
       "    }\n",
       "\n",
       "    .dataframe tbody tr th {\n",
       "        vertical-align: top;\n",
       "    }\n",
       "\n",
       "    .dataframe thead th {\n",
       "        text-align: right;\n",
       "    }\n",
       "</style>\n",
       "<table border=\"1\" class=\"dataframe\">\n",
       "  <thead>\n",
       "    <tr style=\"text-align: right;\">\n",
       "      <th></th>\n",
       "      <th>aspiration</th>\n",
       "    </tr>\n",
       "    <tr>\n",
       "      <th>cars</th>\n",
       "      <th></th>\n",
       "    </tr>\n",
       "  </thead>\n",
       "  <tbody>\n",
       "    <tr>\n",
       "      <th>chevrolet</th>\n",
       "      <td>1.12188</td>\n",
       "    </tr>\n",
       "    <tr>\n",
       "      <th>ford</th>\n",
       "      <td>0.545541</td>\n",
       "    </tr>\n",
       "    <tr>\n",
       "      <th>porsche</th>\n",
       "      <td>2.262</td>\n",
       "    </tr>\n",
       "    <tr>\n",
       "      <th>mercedes</th>\n",
       "      <td>0.883257</td>\n",
       "    </tr>\n",
       "    <tr>\n",
       "      <th>dodge</th>\n",
       "      <td>1.20758</td>\n",
       "    </tr>\n",
       "    <tr>\n",
       "      <th>honda</th>\n",
       "      <td>1.6101</td>\n",
       "    </tr>\n",
       "    <tr>\n",
       "      <th>toyota</th>\n",
       "      <td>1.84256</td>\n",
       "    </tr>\n",
       "    <tr>\n",
       "      <th>chrysler</th>\n",
       "      <td>1.9188</td>\n",
       "    </tr>\n",
       "    <tr>\n",
       "      <th>pontiac</th>\n",
       "      <td>0.518111</td>\n",
       "    </tr>\n",
       "    <tr>\n",
       "      <th>bmw</th>\n",
       "      <td>0.598335</td>\n",
       "    </tr>\n",
       "  </tbody>\n",
       "</table>\n",
       "</div>"
      ],
      "text/plain": [
       "          aspiration\n",
       "cars                \n",
       "chevrolet    1.12188\n",
       "ford        0.545541\n",
       "porsche        2.262\n",
       "mercedes    0.883257\n",
       "dodge        1.20758\n",
       "honda         1.6101\n",
       "toyota       1.84256\n",
       "chrysler      1.9188\n",
       "pontiac     0.518111\n",
       "bmw         0.598335"
      ]
     },
     "execution_count": 44,
     "metadata": {},
     "output_type": "execute_result"
    }
   ],
   "source": [
    "aspiration = pd.DataFrame(columns = ['aspiration'])\n",
    "for cars in top_ten:\n",
    "    aspiration = aspiration.append(pd.Series(0, index=aspiration.columns), ignore_index=True)\n",
    "aspiration['cars'] = top_ten\n",
    "aspiration = aspiration.set_index('cars')\n",
    "\n",
    "df = df.dropna(how='any')\n",
    "\n",
    "for brand, series in list(aspiration.iterrows()):\n",
    "    for att in series.index:\n",
    "        aspiration[att].loc[brand] = calc_lift(brand, att)\n",
    "        \n",
    "\n",
    "print('The aspirational phrases I chose to look at are:')\n",
    "for att in range(len(aspirational_phrases['model'].values)):\n",
    "    print('{}. '.format(att+1)+aspirational_phrases['model'].values[att])\n",
    "    \n",
    "print('\\n\\nBrand and aspiration lifts:\\n')\n",
    "aspiration\n"
   ]
  },
  {
   "cell_type": "markdown",
   "metadata": {
    "colab_type": "text",
    "id": "_pREpd_o5kvD"
   },
   "source": [
    "**Task E**.\n",
    "\n",
    "\n",
    "Our last analysis consisted of us reviewing which car brand was most aspirational. To determine this, I searched through our forum's contents and attempted to identify the use of the bi- and tri-grams listed above. From this analysis, I can conclude that Porsche was the most aspirational as it’s co-occurrence with our chosen bi- and trigrams was most signficant.\n",
    "\n",
    "A brand manager from Porsche should be happy with this analysis, as it shows that those who are deciding to either keep their old car or sell it, are more likely to be considering the purchase of a Porsche than any other car brand. What the brand manager should do from here is determine if the discussion is centering around used Porsches or new Porsches. While it is not a bad thing that customers would see value in purchasing a used Porsche, because it indicates that the cars Porsche produces age well, it doesn't do anything for the bottom like of the company. Finding ways to entice new customers should be the goal of any further analysis."
   ]
  }
 ],
 "metadata": {
  "colab": {
   "collapsed_sections": [],
   "name": "9/17 (9:40pm) - HW1.ipynb",
   "provenance": []
  },
  "kernelspec": {
   "display_name": "Python 3",
   "language": "python",
   "name": "python3"
  },
  "language_info": {
   "codemirror_mode": {
    "name": "ipython",
    "version": 3
   },
   "file_extension": ".py",
   "mimetype": "text/x-python",
   "name": "python",
   "nbconvert_exporter": "python",
   "pygments_lexer": "ipython3",
   "version": "3.7.6"
  }
 },
 "nbformat": 4,
 "nbformat_minor": 1
}
