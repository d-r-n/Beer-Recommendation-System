{
 "cells": [
  {
   "cell_type": "code",
   "execution_count": 1,
   "metadata": {
    "id": "wY3IpJySOeo-"
   },
   "outputs": [],
   "source": [
    "import numpy as np\n",
    "import pandas as pd\n",
    "pd.set_option('display.float_format', lambda x: '%.5f' % x)"
   ]
  },
  {
   "cell_type": "code",
   "execution_count": 2,
   "metadata": {
    "colab": {
     "base_uri": "https://localhost:8080/",
     "height": 136
    },
    "id": "2NbvmJ0JOewR",
    "outputId": "b7692137-a78b-4202-f1ea-81544437dd82"
   },
   "outputs": [
    {
     "name": "stdout",
     "output_type": "stream",
     "text": [
      "Enter your WRDS username [DRNPRO]:nikoldy\n",
      "Enter your password:········\n",
      "WRDS recommends setting up a .pgpass file.\n",
      "You can find more info here:\n",
      "https://www.postgresql.org/docs/9.5/static/libpq-pgpass.html.\n",
      "Loading library list...\n",
      "Done\n"
     ]
    }
   ],
   "source": [
    "import wrds\n",
    "db = wrds.Connection()\n",
    "# Enter your credentials.\n",
    "# Username: <amberchen>\n",
    "# Password: <3ii6Qxrj#.C3Cjc>\n",
    "# db.close()"
   ]
  },
  {
   "cell_type": "markdown",
   "metadata": {
    "id": "g5Wl5QGcWBYL"
   },
   "source": [
    "## Data collection "
   ]
  },
  {
   "cell_type": "code",
   "execution_count": 3,
   "metadata": {
    "colab": {
     "base_uri": "https://localhost:8080/",
     "height": 419
    },
    "id": "6TMMsIKUPf_d",
    "outputId": "116b176c-e696-4259-c903-c8ac307fed19"
   },
   "outputs": [
    {
     "data": {
      "text/html": [
       "<div>\n",
       "<style scoped>\n",
       "    .dataframe tbody tr th:only-of-type {\n",
       "        vertical-align: middle;\n",
       "    }\n",
       "\n",
       "    .dataframe tbody tr th {\n",
       "        vertical-align: top;\n",
       "    }\n",
       "\n",
       "    .dataframe thead th {\n",
       "        text-align: right;\n",
       "    }\n",
       "</style>\n",
       "<table border=\"1\" class=\"dataframe\">\n",
       "  <thead>\n",
       "    <tr style=\"text-align: right;\">\n",
       "      <th></th>\n",
       "      <th>caldt</th>\n",
       "      <th>crsp_fundno</th>\n",
       "      <th>mret</th>\n",
       "    </tr>\n",
       "  </thead>\n",
       "  <tbody>\n",
       "    <tr>\n",
       "      <th>0</th>\n",
       "      <td>1997-02-28</td>\n",
       "      <td>1.00000</td>\n",
       "      <td>nan</td>\n",
       "    </tr>\n",
       "    <tr>\n",
       "      <th>1</th>\n",
       "      <td>1997-03-31</td>\n",
       "      <td>1.00000</td>\n",
       "      <td>-0.01179</td>\n",
       "    </tr>\n",
       "    <tr>\n",
       "      <th>2</th>\n",
       "      <td>1997-04-30</td>\n",
       "      <td>1.00000</td>\n",
       "      <td>0.00842</td>\n",
       "    </tr>\n",
       "    <tr>\n",
       "      <th>3</th>\n",
       "      <td>1997-05-30</td>\n",
       "      <td>1.00000</td>\n",
       "      <td>0.01352</td>\n",
       "    </tr>\n",
       "    <tr>\n",
       "      <th>4</th>\n",
       "      <td>1997-06-30</td>\n",
       "      <td>1.00000</td>\n",
       "      <td>0.01250</td>\n",
       "    </tr>\n",
       "  </tbody>\n",
       "</table>\n",
       "</div>"
      ],
      "text/plain": [
       "       caldt  crsp_fundno     mret\n",
       "0 1997-02-28      1.00000      nan\n",
       "1 1997-03-31      1.00000 -0.01179\n",
       "2 1997-04-30      1.00000  0.00842\n",
       "3 1997-05-30      1.00000  0.01352\n",
       "4 1997-06-30      1.00000  0.01250"
      ]
     },
     "execution_count": 3,
     "metadata": {},
     "output_type": "execute_result"
    }
   ],
   "source": [
    "monthly_return = db.raw_sql('select caldt, crsp_fundno, mret from crsp_q_mutualfunds.monthly_returns;', date_cols=['caldt'])\n",
    "monthly_return.head()"
   ]
  },
  {
   "cell_type": "code",
   "execution_count": 4,
   "metadata": {
    "colab": {
     "base_uri": "https://localhost:8080/",
     "height": 419
    },
    "id": "sUQ-aFFhXQFO",
    "outputId": "8fae5415-902c-4ac5-f5ad-1a0515123c23"
   },
   "outputs": [
    {
     "data": {
      "text/html": [
       "<div>\n",
       "<style scoped>\n",
       "    .dataframe tbody tr th:only-of-type {\n",
       "        vertical-align: middle;\n",
       "    }\n",
       "\n",
       "    .dataframe tbody tr th {\n",
       "        vertical-align: top;\n",
       "    }\n",
       "\n",
       "    .dataframe thead th {\n",
       "        text-align: right;\n",
       "    }\n",
       "</style>\n",
       "<table border=\"1\" class=\"dataframe\">\n",
       "  <thead>\n",
       "    <tr style=\"text-align: right;\">\n",
       "      <th></th>\n",
       "      <th>caldt</th>\n",
       "      <th>crsp_fundno</th>\n",
       "      <th>mtna</th>\n",
       "    </tr>\n",
       "  </thead>\n",
       "  <tbody>\n",
       "    <tr>\n",
       "      <th>0</th>\n",
       "      <td>1997-01-31</td>\n",
       "      <td>1.00000</td>\n",
       "      <td>0.10000</td>\n",
       "    </tr>\n",
       "    <tr>\n",
       "      <th>1</th>\n",
       "      <td>1997-02-28</td>\n",
       "      <td>1.00000</td>\n",
       "      <td>3.92600</td>\n",
       "    </tr>\n",
       "    <tr>\n",
       "      <th>2</th>\n",
       "      <td>1997-03-31</td>\n",
       "      <td>1.00000</td>\n",
       "      <td>12.08100</td>\n",
       "    </tr>\n",
       "    <tr>\n",
       "      <th>3</th>\n",
       "      <td>1997-04-30</td>\n",
       "      <td>1.00000</td>\n",
       "      <td>20.54000</td>\n",
       "    </tr>\n",
       "    <tr>\n",
       "      <th>4</th>\n",
       "      <td>1997-05-30</td>\n",
       "      <td>1.00000</td>\n",
       "      <td>26.15700</td>\n",
       "    </tr>\n",
       "  </tbody>\n",
       "</table>\n",
       "</div>"
      ],
      "text/plain": [
       "       caldt  crsp_fundno     mtna\n",
       "0 1997-01-31      1.00000  0.10000\n",
       "1 1997-02-28      1.00000  3.92600\n",
       "2 1997-03-31      1.00000 12.08100\n",
       "3 1997-04-30      1.00000 20.54000\n",
       "4 1997-05-30      1.00000 26.15700"
      ]
     },
     "execution_count": 4,
     "metadata": {},
     "output_type": "execute_result"
    }
   ],
   "source": [
    "monthly_tna = db.raw_sql('select caldt, crsp_fundno, mtna from crsp_q_mutualfunds.monthly_tna;', date_cols=['caldt'])\n",
    "monthly_tna.head()"
   ]
  },
  {
   "cell_type": "code",
   "execution_count": 5,
   "metadata": {
    "colab": {
     "base_uri": "https://localhost:8080/",
     "height": 419
    },
    "id": "QBJZgFzKOtKO",
    "outputId": "980c29f2-02f1-46a1-e34d-93ec661edab6"
   },
   "outputs": [
    {
     "data": {
      "text/html": [
       "<div>\n",
       "<style scoped>\n",
       "    .dataframe tbody tr th:only-of-type {\n",
       "        vertical-align: middle;\n",
       "    }\n",
       "\n",
       "    .dataframe tbody tr th {\n",
       "        vertical-align: top;\n",
       "    }\n",
       "\n",
       "    .dataframe thead th {\n",
       "        text-align: right;\n",
       "    }\n",
       "</style>\n",
       "<table border=\"1\" class=\"dataframe\">\n",
       "  <thead>\n",
       "    <tr style=\"text-align: right;\">\n",
       "      <th></th>\n",
       "      <th>caldt</th>\n",
       "      <th>crsp_fundno</th>\n",
       "      <th>fund_name</th>\n",
       "      <th>lipper_class_name</th>\n",
       "    </tr>\n",
       "  </thead>\n",
       "  <tbody>\n",
       "    <tr>\n",
       "      <th>0</th>\n",
       "      <td>1999-12-31</td>\n",
       "      <td>292.00000</td>\n",
       "      <td>CitiFunds Trust II: CitiFunds Small Cap Value ...</td>\n",
       "      <td>Small-Cap Value Funds</td>\n",
       "    </tr>\n",
       "    <tr>\n",
       "      <th>1</th>\n",
       "      <td>2000-03-31</td>\n",
       "      <td>292.00000</td>\n",
       "      <td>CitiFunds Trust II: CitiFunds Small Cap Value ...</td>\n",
       "      <td>Small-Cap Value Funds</td>\n",
       "    </tr>\n",
       "    <tr>\n",
       "      <th>2</th>\n",
       "      <td>2000-06-30</td>\n",
       "      <td>292.00000</td>\n",
       "      <td>CitiFunds Trust II: CitiFunds Small Cap Value ...</td>\n",
       "      <td>Small-Cap Value Funds</td>\n",
       "    </tr>\n",
       "    <tr>\n",
       "      <th>3</th>\n",
       "      <td>1999-12-31</td>\n",
       "      <td>479.00000</td>\n",
       "      <td>The DLB Fund Group: DLB Enterprise III Fund</td>\n",
       "      <td>Small-Cap Value Funds</td>\n",
       "    </tr>\n",
       "    <tr>\n",
       "      <th>4</th>\n",
       "      <td>2000-03-31</td>\n",
       "      <td>479.00000</td>\n",
       "      <td>The DLB Fund Group: DLB Enterprise III Fund</td>\n",
       "      <td>Small-Cap Value Funds</td>\n",
       "    </tr>\n",
       "  </tbody>\n",
       "</table>\n",
       "</div>"
      ],
      "text/plain": [
       "       caldt  crsp_fundno                                          fund_name  \\\n",
       "0 1999-12-31    292.00000  CitiFunds Trust II: CitiFunds Small Cap Value ...   \n",
       "1 2000-03-31    292.00000  CitiFunds Trust II: CitiFunds Small Cap Value ...   \n",
       "2 2000-06-30    292.00000  CitiFunds Trust II: CitiFunds Small Cap Value ...   \n",
       "3 1999-12-31    479.00000        The DLB Fund Group: DLB Enterprise III Fund   \n",
       "4 2000-03-31    479.00000        The DLB Fund Group: DLB Enterprise III Fund   \n",
       "\n",
       "       lipper_class_name  \n",
       "0  Small-Cap Value Funds  \n",
       "1  Small-Cap Value Funds  \n",
       "2  Small-Cap Value Funds  \n",
       "3  Small-Cap Value Funds  \n",
       "4  Small-Cap Value Funds  "
      ]
     },
     "execution_count": 5,
     "metadata": {},
     "output_type": "execute_result"
    }
   ],
   "source": [
    "fund_summary = db.raw_sql(\"select caldt, crsp_fundno, fund_name, lipper_class_name from crsp_q_mutualfunds.fund_summary2 where lipper_class_name like 'Small-Cap Value Funds';\", date_cols=['caldt'])\n",
    "fund_summary.head()"
   ]
  },
  {
   "cell_type": "code",
   "execution_count": 6,
   "metadata": {
    "colab": {
     "base_uri": "https://localhost:8080/",
     "height": 419
    },
    "id": "ZEj7VNHpOtUQ",
    "outputId": "b64d6860-341a-43a5-d137-f38338bba271"
   },
   "outputs": [
    {
     "data": {
      "text/html": [
       "<div>\n",
       "<style scoped>\n",
       "    .dataframe tbody tr th:only-of-type {\n",
       "        vertical-align: middle;\n",
       "    }\n",
       "\n",
       "    .dataframe tbody tr th {\n",
       "        vertical-align: top;\n",
       "    }\n",
       "\n",
       "    .dataframe thead th {\n",
       "        text-align: right;\n",
       "    }\n",
       "</style>\n",
       "<table border=\"1\" class=\"dataframe\">\n",
       "  <thead>\n",
       "    <tr style=\"text-align: right;\">\n",
       "      <th></th>\n",
       "      <th>caldt</th>\n",
       "      <th>crsp_fundno</th>\n",
       "      <th>mret</th>\n",
       "      <th>mtna</th>\n",
       "    </tr>\n",
       "  </thead>\n",
       "  <tbody>\n",
       "    <tr>\n",
       "      <th>0</th>\n",
       "      <td>1997-02-28</td>\n",
       "      <td>1.00000</td>\n",
       "      <td>nan</td>\n",
       "      <td>3.92600</td>\n",
       "    </tr>\n",
       "    <tr>\n",
       "      <th>1</th>\n",
       "      <td>1997-03-31</td>\n",
       "      <td>1.00000</td>\n",
       "      <td>-0.01179</td>\n",
       "      <td>12.08100</td>\n",
       "    </tr>\n",
       "    <tr>\n",
       "      <th>2</th>\n",
       "      <td>1997-04-30</td>\n",
       "      <td>1.00000</td>\n",
       "      <td>0.00842</td>\n",
       "      <td>20.54000</td>\n",
       "    </tr>\n",
       "    <tr>\n",
       "      <th>3</th>\n",
       "      <td>1997-05-30</td>\n",
       "      <td>1.00000</td>\n",
       "      <td>0.01352</td>\n",
       "      <td>26.15700</td>\n",
       "    </tr>\n",
       "    <tr>\n",
       "      <th>4</th>\n",
       "      <td>1997-06-30</td>\n",
       "      <td>1.00000</td>\n",
       "      <td>0.01250</td>\n",
       "      <td>34.60900</td>\n",
       "    </tr>\n",
       "  </tbody>\n",
       "</table>\n",
       "</div>"
      ],
      "text/plain": [
       "       caldt  crsp_fundno     mret     mtna\n",
       "0 1997-02-28      1.00000      nan  3.92600\n",
       "1 1997-03-31      1.00000 -0.01179 12.08100\n",
       "2 1997-04-30      1.00000  0.00842 20.54000\n",
       "3 1997-05-30      1.00000  0.01352 26.15700\n",
       "4 1997-06-30      1.00000  0.01250 34.60900"
      ]
     },
     "execution_count": 6,
     "metadata": {},
     "output_type": "execute_result"
    }
   ],
   "source": [
    "ret_tna = pd.merge(monthly_return,monthly_tna,left_on = ['caldt','crsp_fundno'],right_on=['caldt','crsp_fundno'])\n",
    "ret_tna.head()"
   ]
  },
  {
   "cell_type": "code",
   "execution_count": 7,
   "metadata": {
    "colab": {
     "base_uri": "https://localhost:8080/",
     "height": 419
    },
    "id": "HRIw6Y1XZM1N",
    "outputId": "d74198c8-e848-4e01-f12f-132b9aa6769d"
   },
   "outputs": [
    {
     "data": {
      "text/html": [
       "<div>\n",
       "<style scoped>\n",
       "    .dataframe tbody tr th:only-of-type {\n",
       "        vertical-align: middle;\n",
       "    }\n",
       "\n",
       "    .dataframe tbody tr th {\n",
       "        vertical-align: top;\n",
       "    }\n",
       "\n",
       "    .dataframe thead th {\n",
       "        text-align: right;\n",
       "    }\n",
       "</style>\n",
       "<table border=\"1\" class=\"dataframe\">\n",
       "  <thead>\n",
       "    <tr style=\"text-align: right;\">\n",
       "      <th></th>\n",
       "      <th>caldt</th>\n",
       "      <th>crsp_fundno</th>\n",
       "      <th>fund_name</th>\n",
       "      <th>lipper_class_name</th>\n",
       "      <th>mret</th>\n",
       "      <th>mtna</th>\n",
       "    </tr>\n",
       "  </thead>\n",
       "  <tbody>\n",
       "    <tr>\n",
       "      <th>0</th>\n",
       "      <td>1999-12-31</td>\n",
       "      <td>292.00000</td>\n",
       "      <td>CitiFunds Trust II: CitiFunds Small Cap Value ...</td>\n",
       "      <td>Small-Cap Value Funds</td>\n",
       "      <td>0.04604</td>\n",
       "      <td>15.10000</td>\n",
       "    </tr>\n",
       "    <tr>\n",
       "      <th>1</th>\n",
       "      <td>2000-03-31</td>\n",
       "      <td>292.00000</td>\n",
       "      <td>CitiFunds Trust II: CitiFunds Small Cap Value ...</td>\n",
       "      <td>Small-Cap Value Funds</td>\n",
       "      <td>0.06399</td>\n",
       "      <td>10.70000</td>\n",
       "    </tr>\n",
       "    <tr>\n",
       "      <th>2</th>\n",
       "      <td>2000-06-30</td>\n",
       "      <td>292.00000</td>\n",
       "      <td>CitiFunds Trust II: CitiFunds Small Cap Value ...</td>\n",
       "      <td>Small-Cap Value Funds</td>\n",
       "      <td>0.00419</td>\n",
       "      <td>8.80000</td>\n",
       "    </tr>\n",
       "    <tr>\n",
       "      <th>3</th>\n",
       "      <td>1999-12-31</td>\n",
       "      <td>479.00000</td>\n",
       "      <td>The DLB Fund Group: DLB Enterprise III Fund</td>\n",
       "      <td>Small-Cap Value Funds</td>\n",
       "      <td>-0.00968</td>\n",
       "      <td>33.50000</td>\n",
       "    </tr>\n",
       "    <tr>\n",
       "      <th>4</th>\n",
       "      <td>2000-03-31</td>\n",
       "      <td>479.00000</td>\n",
       "      <td>The DLB Fund Group: DLB Enterprise III Fund</td>\n",
       "      <td>Small-Cap Value Funds</td>\n",
       "      <td>0.11521</td>\n",
       "      <td>33.80000</td>\n",
       "    </tr>\n",
       "    <tr>\n",
       "      <th>...</th>\n",
       "      <td>...</td>\n",
       "      <td>...</td>\n",
       "      <td>...</td>\n",
       "      <td>...</td>\n",
       "      <td>...</td>\n",
       "      <td>...</td>\n",
       "    </tr>\n",
       "    <tr>\n",
       "      <th>26940</th>\n",
       "      <td>2020-06-30</td>\n",
       "      <td>96402.00000</td>\n",
       "      <td>American Century ETF Trust: Avantis US Small C...</td>\n",
       "      <td>Small-Cap Value Funds</td>\n",
       "      <td>0.03558</td>\n",
       "      <td>55.40000</td>\n",
       "    </tr>\n",
       "    <tr>\n",
       "      <th>26941</th>\n",
       "      <td>2020-03-31</td>\n",
       "      <td>96648.00000</td>\n",
       "      <td>World Funds Trust: Clifford Capital Focused Sm...</td>\n",
       "      <td>Small-Cap Value Funds</td>\n",
       "      <td>-0.32229</td>\n",
       "      <td>0.10000</td>\n",
       "    </tr>\n",
       "    <tr>\n",
       "      <th>26942</th>\n",
       "      <td>2020-06-30</td>\n",
       "      <td>96648.00000</td>\n",
       "      <td>World Funds Trust: Clifford Capital Focused Sm...</td>\n",
       "      <td>Small-Cap Value Funds</td>\n",
       "      <td>0.02117</td>\n",
       "      <td>0.10000</td>\n",
       "    </tr>\n",
       "    <tr>\n",
       "      <th>26943</th>\n",
       "      <td>2020-03-31</td>\n",
       "      <td>96649.00000</td>\n",
       "      <td>World Funds Trust: Clifford Capital Focused Sm...</td>\n",
       "      <td>Small-Cap Value Funds</td>\n",
       "      <td>-0.32229</td>\n",
       "      <td>0.10000</td>\n",
       "    </tr>\n",
       "    <tr>\n",
       "      <th>26944</th>\n",
       "      <td>2020-06-30</td>\n",
       "      <td>96649.00000</td>\n",
       "      <td>World Funds Trust: Clifford Capital Focused Sm...</td>\n",
       "      <td>Small-Cap Value Funds</td>\n",
       "      <td>0.02120</td>\n",
       "      <td>0.10000</td>\n",
       "    </tr>\n",
       "  </tbody>\n",
       "</table>\n",
       "<p>26945 rows × 6 columns</p>\n",
       "</div>"
      ],
      "text/plain": [
       "           caldt  crsp_fundno  \\\n",
       "0     1999-12-31    292.00000   \n",
       "1     2000-03-31    292.00000   \n",
       "2     2000-06-30    292.00000   \n",
       "3     1999-12-31    479.00000   \n",
       "4     2000-03-31    479.00000   \n",
       "...          ...          ...   \n",
       "26940 2020-06-30  96402.00000   \n",
       "26941 2020-03-31  96648.00000   \n",
       "26942 2020-06-30  96648.00000   \n",
       "26943 2020-03-31  96649.00000   \n",
       "26944 2020-06-30  96649.00000   \n",
       "\n",
       "                                               fund_name  \\\n",
       "0      CitiFunds Trust II: CitiFunds Small Cap Value ...   \n",
       "1      CitiFunds Trust II: CitiFunds Small Cap Value ...   \n",
       "2      CitiFunds Trust II: CitiFunds Small Cap Value ...   \n",
       "3            The DLB Fund Group: DLB Enterprise III Fund   \n",
       "4            The DLB Fund Group: DLB Enterprise III Fund   \n",
       "...                                                  ...   \n",
       "26940  American Century ETF Trust: Avantis US Small C...   \n",
       "26941  World Funds Trust: Clifford Capital Focused Sm...   \n",
       "26942  World Funds Trust: Clifford Capital Focused Sm...   \n",
       "26943  World Funds Trust: Clifford Capital Focused Sm...   \n",
       "26944  World Funds Trust: Clifford Capital Focused Sm...   \n",
       "\n",
       "           lipper_class_name     mret     mtna  \n",
       "0      Small-Cap Value Funds  0.04604 15.10000  \n",
       "1      Small-Cap Value Funds  0.06399 10.70000  \n",
       "2      Small-Cap Value Funds  0.00419  8.80000  \n",
       "3      Small-Cap Value Funds -0.00968 33.50000  \n",
       "4      Small-Cap Value Funds  0.11521 33.80000  \n",
       "...                      ...      ...      ...  \n",
       "26940  Small-Cap Value Funds  0.03558 55.40000  \n",
       "26941  Small-Cap Value Funds -0.32229  0.10000  \n",
       "26942  Small-Cap Value Funds  0.02117  0.10000  \n",
       "26943  Small-Cap Value Funds -0.32229  0.10000  \n",
       "26944  Small-Cap Value Funds  0.02120  0.10000  \n",
       "\n",
       "[26945 rows x 6 columns]"
      ]
     },
     "execution_count": 7,
     "metadata": {},
     "output_type": "execute_result"
    }
   ],
   "source": [
    "df = fund_summary.merge(ret_tna, how='left',on=['caldt','crsp_fundno'])\n",
    "df"
   ]
  },
  {
   "cell_type": "code",
   "execution_count": 8,
   "metadata": {
    "colab": {
     "base_uri": "https://localhost:8080/",
     "height": 68
    },
    "id": "Pi3TtzH8a2lX",
    "outputId": "ab0b2efe-ba4d-4f0e-a009-21171675252c"
   },
   "outputs": [
    {
     "data": {
      "text/plain": [
       "array(['1999-12-31T00:00:00.000000000', '2000-03-31T00:00:00.000000000',\n",
       "       '2000-06-30T00:00:00.000000000', '2000-09-29T00:00:00.000000000',\n",
       "       '2000-12-29T00:00:00.000000000'], dtype='datetime64[ns]')"
      ]
     },
     "execution_count": 8,
     "metadata": {},
     "output_type": "execute_result"
    }
   ],
   "source": [
    "df.caldt.sort_values().unique()[:5]"
   ]
  },
  {
   "cell_type": "code",
   "execution_count": 9,
   "metadata": {
    "id": "mONsIRYgm6VQ"
   },
   "outputs": [],
   "source": [
    "# drop NaNs and remove rows with negative MTNAs\n",
    "clean = df.dropna()\n",
    "clean\n",
    "mask = (clean.mtna >= 0)\n",
    "mask.value_counts() # 235 negative MTNAs, 2 MTNAs equal to 0 \n",
    "clean = clean[mask]"
   ]
  },
  {
   "cell_type": "markdown",
   "metadata": {
    "id": "Z8wLkL7bQE1E"
   },
   "source": [
    "## Regression towards Russell 2000 to refine classification of \"Small-Cap Value Funds\t\"\n",
    "Computing R^2 values of index and Russell 2000"
   ]
  },
  {
   "cell_type": "code",
   "execution_count": 10,
   "metadata": {
    "id": "RcU89oTSQAJ8"
   },
   "outputs": [],
   "source": [
    "from sklearn.linear_model import LinearRegression \n",
    "names_of_firms = clean['fund_name'].unique()\n",
    "r_2_score = []\n",
    "r2k = pd.read_excel('R2K.xlsx')\n",
    "r2k['Date'] = pd.to_datetime(r2k['Date'])"
   ]
  },
  {
   "cell_type": "code",
   "execution_count": 11,
   "metadata": {
    "colab": {
     "base_uri": "https://localhost:8080/",
     "height": 1000
    },
    "id": "TYGA5fa4QTs7",
    "outputId": "ff1ee733-dd98-474a-a7f4-325d3a0d5615"
   },
   "outputs": [
    {
     "data": {
      "text/plain": [
       "[nan,\n",
       " 0.26752805458275275,\n",
       " nan,\n",
       " nan,\n",
       " nan,\n",
       " nan,\n",
       " nan,\n",
       " nan,\n",
       " nan,\n",
       " nan,\n",
       " nan,\n",
       " 0.2599735588806372,\n",
       " nan,\n",
       " 0.655131991604087,\n",
       " 0.016878743578849886,\n",
       " nan,\n",
       " nan,\n",
       " nan,\n",
       " nan,\n",
       " nan]"
      ]
     },
     "execution_count": 11,
     "metadata": {},
     "output_type": "execute_result"
    }
   ],
   "source": [
    "for company in list(names_of_firms):\n",
    "    temp = clean[clean['fund_name'] == company][['mret','caldt']].merge(r2k, left_on = 'caldt', right_on = 'Date')\n",
    "    temp_2 = temp[['mret','% Change']]\n",
    "    temp_2 = temp_2.dropna(axis = 0)\n",
    "    if (temp_2.shape[0]==0) or (temp_2.shape[0]==1) or (temp_2.shape[0]==2):\n",
    "        r_2_score.append(np.nan)\n",
    "    else:\n",
    "        lin_reg = LinearRegression()\n",
    "        lin_reg.fit(np.array(temp_2['mret']).reshape(-1, 1),np.array(temp_2['% Change']).reshape(-1, 1))\n",
    "        r_2_score.append(lin_reg.score(np.array(temp_2['mret']).reshape(-1, 1),np.array(temp_2['% Change']).reshape(-1, 1)))\n",
    "        #print(lin_reg.score(np.array(temp_2['mret']).reshape(-1, 1),np.array(temp_2['% Change']).reshape(-1, 1)))\n",
    "\n",
    "r_2_score[:20]"
   ]
  },
  {
   "cell_type": "code",
   "execution_count": 12,
   "metadata": {
    "id": "KmRtLdQjQYbO"
   },
   "outputs": [],
   "source": [
    "list_of_r2_score = pd.DataFrame(list(zip(names_of_firms,r_2_score))) \n",
    "list_of_r2_score.columns = ['MF Name', 'R^2 score']\n",
    "list_of_r2_score_final = list_of_r2_score[list_of_r2_score['R^2 score'].isnull()==False].copy()\n",
    "list_of_r2_score_final.to_csv('list_of_r2_score_final.csv')"
   ]
  },
  {
   "cell_type": "code",
   "execution_count": 13,
   "metadata": {
    "id": "C_Gaa86us_DW"
   },
   "outputs": [],
   "source": [
    "#from google.colab import drive\n",
    "#drive.mount('/content/drive')\n",
    "#r2_score_df = pd.read_csv('/content/drive/My Drive/Asset Management/list_of_r2_score_final.csv')\n",
    "r2_score_df = pd.read_csv('list_of_r2_score_final.csv')"
   ]
  },
  {
   "cell_type": "code",
   "execution_count": 14,
   "metadata": {
    "colab": {
     "base_uri": "https://localhost:8080/",
     "height": 419
    },
    "id": "vRSbv6i5tFOL",
    "outputId": "be6214aa-2b42-43d5-ed46-726cb91e49e3"
   },
   "outputs": [
    {
     "data": {
      "text/plain": [
       "(25732, 6)"
      ]
     },
     "execution_count": 14,
     "metadata": {},
     "output_type": "execute_result"
    }
   ],
   "source": [
    "r2_score_new = r2_score_df[r2_score_df['R^2 score']>=0.6]\n",
    "sc_fund_list = r2_score_df['MF Name'].unique().tolist()\n",
    "clean3 = clean[clean['fund_name'].isin(sc_fund_list)]\n",
    "clean3.shape"
   ]
  },
  {
   "cell_type": "code",
   "execution_count": 15,
   "metadata": {},
   "outputs": [
    {
     "data": {
      "text/html": [
       "<div>\n",
       "<style scoped>\n",
       "    .dataframe tbody tr th:only-of-type {\n",
       "        vertical-align: middle;\n",
       "    }\n",
       "\n",
       "    .dataframe tbody tr th {\n",
       "        vertical-align: top;\n",
       "    }\n",
       "\n",
       "    .dataframe thead th {\n",
       "        text-align: right;\n",
       "    }\n",
       "</style>\n",
       "<table border=\"1\" class=\"dataframe\">\n",
       "  <thead>\n",
       "    <tr style=\"text-align: right;\">\n",
       "      <th></th>\n",
       "      <th>caldt</th>\n",
       "      <th>crsp_fundno</th>\n",
       "      <th>fund_name</th>\n",
       "      <th>lipper_class_name</th>\n",
       "      <th>mret</th>\n",
       "      <th>mtna</th>\n",
       "    </tr>\n",
       "  </thead>\n",
       "  <tbody>\n",
       "    <tr>\n",
       "      <th>3</th>\n",
       "      <td>1999-12-31</td>\n",
       "      <td>479.00000</td>\n",
       "      <td>The DLB Fund Group: DLB Enterprise III Fund</td>\n",
       "      <td>Small-Cap Value Funds</td>\n",
       "      <td>-0.00968</td>\n",
       "      <td>33.50000</td>\n",
       "    </tr>\n",
       "    <tr>\n",
       "      <th>4</th>\n",
       "      <td>2000-03-31</td>\n",
       "      <td>479.00000</td>\n",
       "      <td>The DLB Fund Group: DLB Enterprise III Fund</td>\n",
       "      <td>Small-Cap Value Funds</td>\n",
       "      <td>0.11521</td>\n",
       "      <td>33.80000</td>\n",
       "    </tr>\n",
       "    <tr>\n",
       "      <th>5</th>\n",
       "      <td>2000-06-30</td>\n",
       "      <td>479.00000</td>\n",
       "      <td>The DLB Fund Group: DLB Enterprise III Fund</td>\n",
       "      <td>Small-Cap Value Funds</td>\n",
       "      <td>0.01961</td>\n",
       "      <td>34.90000</td>\n",
       "    </tr>\n",
       "    <tr>\n",
       "      <th>6</th>\n",
       "      <td>2000-09-29</td>\n",
       "      <td>479.00000</td>\n",
       "      <td>The DLB Fund Group: DLB Enterprise III Fund</td>\n",
       "      <td>Small-Cap Value Funds</td>\n",
       "      <td>-0.02968</td>\n",
       "      <td>36.40000</td>\n",
       "    </tr>\n",
       "    <tr>\n",
       "      <th>7</th>\n",
       "      <td>2000-12-29</td>\n",
       "      <td>479.00000</td>\n",
       "      <td>The DLB Fund Group: DLB Enterprise III Fund</td>\n",
       "      <td>Small-Cap Value Funds</td>\n",
       "      <td>0.03307</td>\n",
       "      <td>17.20000</td>\n",
       "    </tr>\n",
       "  </tbody>\n",
       "</table>\n",
       "</div>"
      ],
      "text/plain": [
       "       caldt  crsp_fundno                                    fund_name  \\\n",
       "3 1999-12-31    479.00000  The DLB Fund Group: DLB Enterprise III Fund   \n",
       "4 2000-03-31    479.00000  The DLB Fund Group: DLB Enterprise III Fund   \n",
       "5 2000-06-30    479.00000  The DLB Fund Group: DLB Enterprise III Fund   \n",
       "6 2000-09-29    479.00000  The DLB Fund Group: DLB Enterprise III Fund   \n",
       "7 2000-12-29    479.00000  The DLB Fund Group: DLB Enterprise III Fund   \n",
       "\n",
       "       lipper_class_name     mret     mtna  \n",
       "3  Small-Cap Value Funds -0.00968 33.50000  \n",
       "4  Small-Cap Value Funds  0.11521 33.80000  \n",
       "5  Small-Cap Value Funds  0.01961 34.90000  \n",
       "6  Small-Cap Value Funds -0.02968 36.40000  \n",
       "7  Small-Cap Value Funds  0.03307 17.20000  "
      ]
     },
     "execution_count": 15,
     "metadata": {},
     "output_type": "execute_result"
    }
   ],
   "source": [
    "clean3.head()"
   ]
  },
  {
   "cell_type": "code",
   "execution_count": 16,
   "metadata": {
    "colab": {
     "base_uri": "https://localhost:8080/",
     "height": 221
    },
    "id": "AQVBUGZyTIpS",
    "outputId": "357dbc3a-2f8a-4aee-ff01-2808f8966dbb"
   },
   "outputs": [
    {
     "data": {
      "text/plain": [
       "count   25732.00000\n",
       "mean      259.44955\n",
       "std       900.88694\n",
       "min         0.00000\n",
       "25%         5.60000\n",
       "50%        36.30000\n",
       "75%       175.12500\n",
       "max     17651.40000\n",
       "Name: mtna, dtype: float64"
      ]
     },
     "execution_count": 16,
     "metadata": {},
     "output_type": "execute_result"
    }
   ],
   "source": [
    "clean3['mtna'].describe()"
   ]
  },
  {
   "cell_type": "markdown",
   "metadata": {
    "id": "gHBLsbTEb7Rv"
   },
   "source": [
    "## Scatterplot"
   ]
  },
  {
   "cell_type": "code",
   "execution_count": 17,
   "metadata": {
    "colab": {
     "base_uri": "https://localhost:8080/",
     "height": 298
    },
    "id": "cXaIDUOWowLp",
    "outputId": "810f5f27-9073-4aa8-eb46-d7229ee3fb45"
   },
   "outputs": [
    {
     "data": {
      "text/plain": [
       "<matplotlib.axes._subplots.AxesSubplot at 0x7fed9486e210>"
      ]
     },
     "execution_count": 17,
     "metadata": {},
     "output_type": "execute_result"
    },
    {
     "data": {
      "image/png": "[encoded data removed]",
      "text/plain": [
       "<Figure size 432x288 with 1 Axes>"
      ]
     },
     "metadata": {
      "needs_background": "light"
     },
     "output_type": "display_data"
    }
   ],
   "source": [
    "avg_groupby_fund = clean3[['crsp_fundno','mret','mtna']].groupby('crsp_fundno').mean()\n",
    "avg_groupby_fund.plot.scatter(x='mtna',y='mret',c=avg_groupby_fund.index)"
   ]
  },
  {
   "cell_type": "markdown",
   "metadata": {
    "id": "sUSLMgItcwpO"
   },
   "source": [
    "## Histogram"
   ]
  },
  {
   "cell_type": "code",
   "execution_count": 18,
   "metadata": {
    "colab": {
     "base_uri": "https://localhost:8080/",
     "height": 458
    },
    "id": "UbNMKQI3USYw",
    "outputId": "13eb3ccd-a815-4cc2-8398-7e48d3775cec"
   },
   "outputs": [
    {
     "data": {
      "image/png": "[encoded data removed]",
      "text/plain": [
       "<Figure size 720x504 with 1 Axes>"
      ]
     },
     "metadata": {
      "needs_background": "light"
     },
     "output_type": "display_data"
    }
   ],
   "source": [
    "from matplotlib import pyplot as plt\n",
    "import numpy as np\n",
    "# Creating histogram\n",
    "fig, ax = plt.subplots(figsize =(10, 7))\n",
    "ax.hist(clean3['mtna'], bins = [0, 25, 50, 75, 100, 125,150,175,200])\n",
    "ax.set_ylabel('number of records')\n",
    "ax.set_xlabel('Monthly Net Asset')\n",
    "ax.set_title(\"Total Net Asset Histogram\")\n",
    "# Show plot\n",
    "plt.show()"
   ]
  },
  {
   "cell_type": "markdown",
   "metadata": {
    "id": "QPe9q0VzTYPG"
   },
   "source": [
    "## Barplot for three classes\n",
    "(Equal number of data points in each bin )"
   ]
  },
  {
   "cell_type": "code",
   "execution_count": 19,
   "metadata": {
    "colab": {
     "base_uri": "https://localhost:8080/",
     "height": 34
    },
    "id": "6n_AF65jTQBm",
    "outputId": "fa0ef128-8548-4c3a-fefe-aaea4f8a4a8b"
   },
   "outputs": [
    {
     "data": {
      "text/plain": [
       "25732"
      ]
     },
     "execution_count": 19,
     "metadata": {},
     "output_type": "execute_result"
    }
   ],
   "source": [
    "len(clean3)"
   ]
  },
  {
   "cell_type": "code",
   "execution_count": 20,
   "metadata": {
    "colab": {
     "base_uri": "https://localhost:8080/",
     "height": 34
    },
    "id": "J10UmXuWThLd",
    "outputId": "81266b8d-ef21-4197-c403-abded2ac7b66"
   },
   "outputs": [
    {
     "name": "stdout",
     "output_type": "stream",
     "text": [
      "0.008010528680812715 0.008690078971692246 0.009342383866870264\n"
     ]
    }
   ],
   "source": [
    "# 3 bins\n",
    "ret1 = clean3.sort_values(by='mtna')[:8833]['mret'].mean()\n",
    "ret2 = clean3.sort_values(by='mtna')[8833:17667]['mret'].mean()\n",
    "ret3 = clean3.sort_values(by='mtna')[17667:]['mret'].mean()\n",
    "print(ret1, ret2, ret3)"
   ]
  },
  {
   "cell_type": "code",
   "execution_count": 21,
   "metadata": {
    "colab": {
     "base_uri": "https://localhost:8080/",
     "height": 350
    },
    "id": "5FO9qy6-Tjcg",
    "outputId": "3adc30e3-fe05-4eff-d716-c3d5097d00cb"
   },
   "outputs": [
    {
     "data": {
      "image/png": "[encoded data removed]",
      "text/plain": [
       "<Figure size 432x288 with 1 Axes>"
      ]
     },
     "metadata": {
      "needs_background": "light"
     },
     "output_type": "display_data"
    }
   ],
   "source": [
    "import matplotlib.pyplot as plt\n",
    "fig = plt.figure()\n",
    "ax = fig.add_axes([0,0,1,1])\n",
    "size = ['Small', 'Medium', 'Large']\n",
    "mret = [ret1, ret2, ret3]\n",
    "ax.bar(size,mret)\n",
    "ax.set_ylabel('Monthly Return')\n",
    "ax.set_xlabel('Fund Size')\n",
    "plt.show()"
   ]
  },
  {
   "cell_type": "code",
   "execution_count": 22,
   "metadata": {
    "colab": {
     "base_uri": "https://localhost:8080/",
     "height": 289
    },
    "id": "OpnQpWxQ8ljn",
    "outputId": "073d3f3a-0236-420a-bf77-8e4572b4ed1f"
   },
   "outputs": [
    {
     "name": "stdout",
     "output_type": "stream",
     "text": [
      "Annualized returns\n",
      "Small: 0.100477\n",
      "Medium: 0.109412\n",
      "Large: 0.118052\n",
      "\n",
      "\n",
      "Annualized standard deviation\n",
      "Small: 0.184450\n",
      "Medium: 0.214378\n",
      "Large: 0.218450\n",
      "\n",
      "\n",
      "Sharpe Ratio\n",
      "Small: 0.490522\n",
      "Medium: 0.463726\n",
      "Large: 0.494632\n"
     ]
    }
   ],
   "source": [
    "import statistics\n",
    "import math\n",
    "\n",
    "# annualized return\n",
    "print('Annualized returns')\n",
    "print('Small: %.6f'   % ((1+ret1)**12-1))\n",
    "print('Medium: %.6f'  % ((1+ret2)**12-1))\n",
    "print('Large: %.6f'   % ((1+ret3)**12-1))\n",
    "\n",
    "# annualized standard deviation\n",
    "sd1 = statistics.stdev(clean3['mret'][:8833])*math.sqrt(12)\n",
    "sd2 = statistics.stdev(clean3['mret'][8833:17667])*math.sqrt(12)\n",
    "sd3 = statistics.stdev(clean3['mret'][17667:])*math.sqrt(12)\n",
    "\n",
    "print('\\n\\nAnnualized standard deviation')\n",
    "print('Small: %.6f'  % sd1)\n",
    "print('Medium: %.6f' % sd2)\n",
    "print('Large: %.6f'  % sd3)\n",
    "\n",
    "# Sharpe Ratios\n",
    "print('\\n\\nSharpe Ratio')\n",
    "rf=.01\n",
    "print('Small: %.6f'% ((((1+ret1)**12-1)-rf)/sd1))\n",
    "print('Medium: %.6f'% ((((1+ret2)**12-1)-rf)/sd2))\n",
    "print('Large: %.6f'% ((((1+ret3)**12-1)-rf)/sd3))"
   ]
  },
  {
   "cell_type": "markdown",
   "metadata": {
    "id": "uT6YdgjgTpF9"
   },
   "source": [
    "## Barplot for ten classes\n",
    "(Equal number of data points in each bin )"
   ]
  },
  {
   "cell_type": "code",
   "execution_count": 23,
   "metadata": {
    "colab": {
     "base_uri": "https://localhost:8080/",
     "height": 187
    },
    "id": "eMFovk9jZ1bm",
    "outputId": "0493f70a-9f31-4b5c-b455-46b2d6966544"
   },
   "outputs": [
    {
     "data": {
      "text/plain": [
       "[0.006912531913623689,\n",
       " 0.009979873559973597,\n",
       " 0.007004984731600594,\n",
       " 0.008885513427133935,\n",
       " 0.0072457709995200036,\n",
       " 0.009456956242450566,\n",
       " 0.008801255421745756,\n",
       " 0.009992432370188743,\n",
       " 0.008869164952596315,\n",
       " 0.009494201660972276]"
      ]
     },
     "execution_count": 23,
     "metadata": {},
     "output_type": "execute_result"
    }
   ],
   "source": [
    "n = 2573\n",
    "ret = []\n",
    "for i in range(0,10):\n",
    "    ret.append(clean3.sort_values(by='mtna')[(i*n):((i+1)*n)]['mret'].mean())\n",
    "ret"
   ]
  },
  {
   "cell_type": "code",
   "execution_count": 24,
   "metadata": {
    "colab": {
     "base_uri": "https://localhost:8080/",
     "height": 350
    },
    "id": "fNiAkG56qj-j",
    "outputId": "d577597a-fdfb-48b0-dcf5-9254b2b5dad4"
   },
   "outputs": [
    {
     "data": {
      "image/png": "[encoded data removed]",
      "text/plain": [
       "<Figure size 432x288 with 1 Axes>"
      ]
     },
     "metadata": {
      "needs_background": "light"
     },
     "output_type": "display_data"
    }
   ],
   "source": [
    "# 10 bins. Each bin has 1/10 of the total amount of data entries, sorted by 'mtna'\n",
    "import matplotlib.pyplot as plt\n",
    "fig = plt.figure()\n",
    "ax = fig.add_axes([0,0,1,1])\n",
    "size = list(range(1,11))\n",
    "ax.bar(size,ret)\n",
    "ax.set_ylabel('Monthly Return')\n",
    "ax.set_xlabel('Fund Size (1 means smallest and 10 means largest)')\n",
    "plt.show()"
   ]
  },
  {
   "cell_type": "markdown",
   "metadata": {
    "id": "nl2fC0bwUeBy"
   },
   "source": [
    "## Barplot for more classes\n",
    "(As 'mtna' is heavily skewed, we try another way to build each bin with equal threshold)"
   ]
  },
  {
   "cell_type": "code",
   "execution_count": 25,
   "metadata": {
    "id": "BangWFZyQZYb"
   },
   "outputs": [],
   "source": [
    "# THRESHOLDING FUNCTION TO GET BINS\n",
    "\n",
    "def mtna_threshold(arg):\n",
    "    temp = 0\n",
    "    threshold_step = 1000 # needs to be changed\n",
    "    threshold = 0\n",
    "    while True:\n",
    "        if arg < threshold:\n",
    "            bin = temp\n",
    "            break\n",
    "        else:\n",
    "            threshold += threshold_step\n",
    "            temp += 1\n",
    "    return bin"
   ]
  },
  {
   "cell_type": "code",
   "execution_count": 26,
   "metadata": {
    "colab": {
     "base_uri": "https://localhost:8080/",
     "height": 472
    },
    "id": "M9ifjKrwo5TW",
    "outputId": "3f144b40-d096-4904-d261-cc2bf1f9d42a"
   },
   "outputs": [
    {
     "name": "stderr",
     "output_type": "stream",
     "text": [
      "/Applications/anaconda3/lib/python3.7/site-packages/ipykernel_launcher.py:1: SettingWithCopyWarning: \n",
      "A value is trying to be set on a copy of a slice from a DataFrame.\n",
      "Try using .loc[row_indexer,col_indexer] = value instead\n",
      "\n",
      "See the caveats in the documentation: https://pandas.pydata.org/pandas-docs/stable/user_guide/indexing.html#returning-a-view-versus-a-copy\n",
      "  \"\"\"Entry point for launching an IPython kernel.\n"
     ]
    },
    {
     "data": {
      "image/png": "[encoded data removed]",
      "text/plain": [
       "<Figure size 432x288 with 1 Axes>"
      ]
     },
     "metadata": {
      "needs_background": "light"
     },
     "output_type": "display_data"
    }
   ],
   "source": [
    "clean3['bin'] = clean3['mtna'].map(mtna_threshold)\n",
    "new_clean3 = clean3.groupby(['bin']).agg('mean')\n",
    "new_clean3.reset_index(level=0, inplace=True)\n",
    "\n",
    "fig = plt.figure()\n",
    "ax = fig.add_axes([0,0,1,1])\n",
    "size = list(range(1,11))\n",
    "ax.bar(new_clean3['bin'],new_clean3['mret'])\n",
    "ax.set_ylabel('Monthly Return')\n",
    "ax.set_xlabel('Fund Size (monthly total net asset by Billion)')\n",
    "plt.show()\n"
   ]
  }
 ],
 "metadata": {
  "colab": {
   "collapsed_sections": [],
   "name": "HW2.ipynb",
   "provenance": []
  },
  "kernelspec": {
   "display_name": "Python 3",
   "language": "python",
   "name": "python3"
  },
  "language_info": {
   "codemirror_mode": {
    "name": "ipython",
    "version": 3
   },
   "file_extension": ".py",
   "mimetype": "text/x-python",
   "name": "python",
   "nbconvert_exporter": "python",
   "pygments_lexer": "ipython3",
   "version": "3.7.6"
  }
 },
 "nbformat": 4,
 "nbformat_minor": 1
}
